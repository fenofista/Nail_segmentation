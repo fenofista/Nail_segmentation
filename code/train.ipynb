{
 "cells": [
  {
   "cell_type": "code",
   "execution_count": 1,
   "id": "charming-fiber",
   "metadata": {},
   "outputs": [],
   "source": [
    "import torch\n",
    "import torch.nn as nn\n",
    "from Nail_dataset import get_dataset\n",
    "from torch.utils.data import DataLoader\n",
    "from Model import get_model\n",
    "import matplotlib.pyplot as plt\n",
    "import cv2\n",
    "import torch.nn.functional as F"
   ]
  },
  {
   "cell_type": "code",
   "execution_count": 2,
   "id": "97765041",
   "metadata": {},
   "outputs": [],
   "source": [
    "import os    \n",
    "os.environ['KMP_DUPLICATE_LIB_OK']='True'"
   ]
  },
  {
   "cell_type": "code",
   "execution_count": 3,
   "id": "serious-compatibility",
   "metadata": {},
   "outputs": [],
   "source": [
    "class DiceLoss(nn.Module):\n",
    "    def __init__(self):\n",
    "        super(DiceLoss, self).__init__()\n",
    " \n",
    "    def forward(self, input, target):\n",
    "        N = target.size(0)\n",
    "        smooth = 1\n",
    " \n",
    "        input_flat = input.view(N, -1)\n",
    "        target_flat = target.view(N, -1)\n",
    " \n",
    "        intersection = input_flat * target_flat\n",
    " \n",
    "        loss = 2 * (intersection.sum(1) + smooth) / (input_flat.sum(1) + target_flat.sum(1) + smooth)\n",
    "        loss = 1 - loss.sum() / N\n",
    " \n",
    "        return loss\n"
   ]
  },
  {
   "cell_type": "code",
   "execution_count": null,
   "id": "7330c1b9",
   "metadata": {},
   "outputs": [],
   "source": []
  },
  {
   "cell_type": "code",
   "execution_count": 4,
   "id": "liked-playing",
   "metadata": {},
   "outputs": [],
   "source": [
    "\n",
    "def train(dataloader, model, loss_fn, optimizer):\n",
    "    size = len(dataloader.dataset)\n",
    "    model.train()\n",
    "    total_loss = 0\n",
    "    for batch, (X, y, image) in enumerate(dataloader):\n",
    "        X = X.float()\n",
    "        y = y.float()\n",
    "        X, y = X.to(device), y.to(device)\n",
    "        \n",
    "        X = X.requires_grad_()\n",
    "        # Compute prediction error\n",
    "        pred = model(X)\n",
    "        pred = F.sigmoid(pred)\n",
    "#         loss = loss_fn(pred, y)\n",
    "#         print(pred.shape)\n",
    "#         print(y.shape)\n",
    "\n",
    "        pred = torch.reshape(pred, (1,256,256))\n",
    "        \n",
    "        pred_flat = pred.view(-1)\n",
    "\n",
    "        y_flat = y.view(-1)\n",
    "            \n",
    "            \n",
    "        loss = loss_fn(pred_flat, y_flat)\n",
    "#         print(loss)\n",
    "        total_loss+=abs(loss)\n",
    "        # Backpropagation\n",
    "        optimizer.zero_grad()\n",
    "        loss.backward()\n",
    "        optimizer.step()\n",
    "        \n",
    "        if batch % 25 == 0:\n",
    "            loss, current = loss.item(), batch * len(X)\n",
    "            print(f\"total_loss: {total_loss:>7f}  [{current:>5d}/{size:>5d}]\")\n",
    "    return total_loss"
   ]
  },
  {
   "cell_type": "code",
   "execution_count": 5,
   "id": "extreme-mercy",
   "metadata": {},
   "outputs": [],
   "source": [
    "dataset = get_dataset()\n",
    "\n",
    "train_dataloader = DataLoader(dataset, batch_size=1, shuffle=True)\n",
    "\n",
    "model = get_model()\n",
    "\n",
    "# loss_fn = DiceLoss()\n",
    "loss_fn = nn.BCELoss()\n",
    "optimizer = torch.optim.Adam(model.parameters(), lr=1e-5)"
   ]
  },
  {
   "cell_type": "code",
   "execution_count": 6,
   "id": "incorrect-bidder",
   "metadata": {},
   "outputs": [],
   "source": [
    "image, mask, origin_image = next(iter(train_dataloader))"
   ]
  },
  {
   "cell_type": "code",
   "execution_count": 7,
   "id": "impaired-toyota",
   "metadata": {
    "scrolled": true
   },
   "outputs": [
    {
     "name": "stdout",
     "output_type": "stream",
     "text": [
      "cuda\n",
      "Epoch 1\n",
      "-------------------------------\n"
     ]
    },
    {
     "name": "stderr",
     "output_type": "stream",
     "text": [
      "C:\\Users\\HMILAB\\anaconda3\\lib\\site-packages\\torch\\nn\\functional.py:1944: UserWarning: nn.functional.sigmoid is deprecated. Use torch.sigmoid instead.\n",
      "  warnings.warn(\"nn.functional.sigmoid is deprecated. Use torch.sigmoid instead.\")\n"
     ]
    },
    {
     "name": "stdout",
     "output_type": "stream",
     "text": [
      "total_loss: 0.922375  [    0/   41]\n",
      "total_loss: 202.016068  [   25/   41]\n",
      "#########save_best_model###########\n",
      "Epoch 2\n",
      "-------------------------------\n",
      "total_loss: 15.194016  [    0/   41]\n",
      "total_loss: 630.406372  [   25/   41]\n",
      "Epoch 3\n",
      "-------------------------------\n",
      "total_loss: 18.385315  [    0/   41]\n",
      "total_loss: 1235.429443  [   25/   41]\n",
      "Epoch 4\n",
      "-------------------------------\n",
      "total_loss: 63.273834  [    0/   41]\n",
      "total_loss: 2542.918945  [   25/   41]\n",
      "Epoch 5\n",
      "-------------------------------\n",
      "total_loss: 159.533051  [    0/   41]\n",
      "total_loss: 3990.751221  [   25/   41]\n",
      "Epoch 6\n",
      "-------------------------------\n",
      "total_loss: 219.237457  [    0/   41]\n",
      "total_loss: 5231.655762  [   25/   41]\n",
      "Epoch 7\n",
      "-------------------------------\n",
      "total_loss: 226.342667  [    0/   41]\n",
      "total_loss: 5491.230469  [   25/   41]\n",
      "Epoch 8\n",
      "-------------------------------\n",
      "total_loss: 158.571793  [    0/   41]\n",
      "total_loss: 5614.688965  [   25/   41]\n",
      "Epoch 9\n",
      "-------------------------------\n",
      "total_loss: 196.544098  [    0/   41]\n",
      "total_loss: 5811.639160  [   25/   41]\n",
      "Epoch 10\n",
      "-------------------------------\n",
      "total_loss: 318.435913  [    0/   41]\n",
      "total_loss: 6253.687988  [   25/   41]\n",
      "Epoch 11\n",
      "-------------------------------\n",
      "total_loss: 167.772675  [    0/   41]\n",
      "total_loss: 6581.969727  [   25/   41]\n",
      "Epoch 12\n",
      "-------------------------------\n",
      "total_loss: 167.745377  [    0/   41]\n",
      "total_loss: 6188.355469  [   25/   41]\n",
      "Epoch 13\n",
      "-------------------------------\n",
      "total_loss: 281.629822  [    0/   41]\n",
      "total_loss: 6611.869141  [   25/   41]\n",
      "Epoch 14\n",
      "-------------------------------\n",
      "total_loss: 164.989288  [    0/   41]\n",
      "total_loss: 6658.845215  [   25/   41]\n",
      "Epoch 15\n",
      "-------------------------------\n",
      "total_loss: 349.998993  [    0/   41]\n",
      "total_loss: 6611.246094  [   25/   41]\n",
      "Epoch 16\n",
      "-------------------------------\n",
      "total_loss: 216.040237  [    0/   41]\n",
      "total_loss: 6847.110352  [   25/   41]\n",
      "Epoch 17\n",
      "-------------------------------\n",
      "total_loss: 219.588852  [    0/   41]\n",
      "total_loss: 7055.872559  [   25/   41]\n",
      "Epoch 18\n",
      "-------------------------------\n",
      "total_loss: 262.668457  [    0/   41]\n",
      "total_loss: 7420.963867  [   25/   41]\n",
      "Epoch 19\n",
      "-------------------------------\n",
      "total_loss: 190.897278  [    0/   41]\n",
      "total_loss: 7358.288574  [   25/   41]\n",
      "Epoch 20\n",
      "-------------------------------\n",
      "total_loss: 168.436768  [    0/   41]\n",
      "total_loss: 7189.023926  [   25/   41]\n",
      "Epoch 21\n",
      "-------------------------------\n",
      "total_loss: 394.391052  [    0/   41]\n",
      "total_loss: 7722.234375  [   25/   41]\n",
      "Epoch 22\n",
      "-------------------------------\n",
      "total_loss: 177.059738  [    0/   41]\n",
      "total_loss: 7652.501465  [   25/   41]\n",
      "Epoch 23\n",
      "-------------------------------\n",
      "total_loss: 257.846802  [    0/   41]\n",
      "total_loss: 7622.265137  [   25/   41]\n",
      "Epoch 24\n",
      "-------------------------------\n",
      "total_loss: 175.733597  [    0/   41]\n",
      "total_loss: 8029.573730  [   25/   41]\n",
      "Epoch 25\n",
      "-------------------------------\n",
      "total_loss: 183.024033  [    0/   41]\n",
      "total_loss: 7661.092285  [   25/   41]\n",
      "Epoch 26\n",
      "-------------------------------\n",
      "total_loss: 179.049881  [    0/   41]\n",
      "total_loss: 8409.330078  [   25/   41]\n",
      "Epoch 27\n",
      "-------------------------------\n",
      "total_loss: 234.681168  [    0/   41]\n",
      "total_loss: 8285.205078  [   25/   41]\n",
      "Epoch 28\n",
      "-------------------------------\n",
      "total_loss: 212.932648  [    0/   41]\n",
      "total_loss: 8552.996094  [   25/   41]\n",
      "Epoch 29\n",
      "-------------------------------\n",
      "total_loss: 237.682846  [    0/   41]\n",
      "total_loss: 8896.470703  [   25/   41]\n",
      "Epoch 30\n",
      "-------------------------------\n",
      "total_loss: 446.448792  [    0/   41]\n",
      "total_loss: 8691.985352  [   25/   41]\n",
      "Epoch 31\n",
      "-------------------------------\n",
      "total_loss: 290.166138  [    0/   41]\n",
      "total_loss: 8803.788086  [   25/   41]\n",
      "Epoch 32\n",
      "-------------------------------\n",
      "total_loss: 405.283813  [    0/   41]\n",
      "total_loss: 8351.226562  [   25/   41]\n",
      "Epoch 33\n",
      "-------------------------------\n",
      "total_loss: 192.980240  [    0/   41]\n",
      "total_loss: 8255.016602  [   25/   41]\n",
      "Epoch 34\n",
      "-------------------------------\n",
      "total_loss: 188.593323  [    0/   41]\n",
      "total_loss: 7863.645508  [   25/   41]\n",
      "Epoch 35\n",
      "-------------------------------\n",
      "total_loss: 592.510315  [    0/   41]\n",
      "total_loss: 9199.172852  [   25/   41]\n",
      "Epoch 36\n",
      "-------------------------------\n",
      "total_loss: 462.364502  [    0/   41]\n",
      "total_loss: 8901.229492  [   25/   41]\n",
      "Epoch 37\n",
      "-------------------------------\n",
      "total_loss: 212.985657  [    0/   41]\n",
      "total_loss: 9155.790039  [   25/   41]\n",
      "Epoch 38\n",
      "-------------------------------\n",
      "total_loss: 617.563232  [    0/   41]\n",
      "total_loss: 9007.302734  [   25/   41]\n",
      "Epoch 39\n",
      "-------------------------------\n",
      "total_loss: 248.858215  [    0/   41]\n",
      "total_loss: 9107.431641  [   25/   41]\n",
      "Epoch 40\n",
      "-------------------------------\n",
      "total_loss: 205.753754  [    0/   41]\n",
      "total_loss: 8834.215820  [   25/   41]\n",
      "Epoch 41\n",
      "-------------------------------\n",
      "total_loss: 242.255020  [    0/   41]\n",
      "total_loss: 8407.574219  [   25/   41]\n",
      "Epoch 42\n",
      "-------------------------------\n",
      "total_loss: 417.350098  [    0/   41]\n",
      "total_loss: 9275.380859  [   25/   41]\n",
      "Epoch 43\n",
      "-------------------------------\n",
      "total_loss: 416.976440  [    0/   41]\n",
      "total_loss: 8728.509766  [   25/   41]\n",
      "Epoch 44\n",
      "-------------------------------\n",
      "total_loss: 242.308075  [    0/   41]\n",
      "total_loss: 8889.876953  [   25/   41]\n",
      "Epoch 45\n",
      "-------------------------------\n",
      "total_loss: 176.218353  [    0/   41]\n",
      "total_loss: 9532.769531  [   25/   41]\n",
      "Epoch 46\n",
      "-------------------------------\n",
      "total_loss: 176.207123  [    0/   41]\n",
      "total_loss: 9198.193359  [   25/   41]\n",
      "Epoch 47\n",
      "-------------------------------\n",
      "total_loss: 287.734314  [    0/   41]\n",
      "total_loss: 10195.099609  [   25/   41]\n",
      "Epoch 48\n",
      "-------------------------------\n",
      "total_loss: 627.025452  [    0/   41]\n",
      "total_loss: 9052.335938  [   25/   41]\n",
      "Epoch 49\n",
      "-------------------------------\n",
      "total_loss: 184.225204  [    0/   41]\n",
      "total_loss: 9667.695312  [   25/   41]\n",
      "Epoch 50\n",
      "-------------------------------\n",
      "total_loss: 421.486603  [    0/   41]\n",
      "total_loss: 9224.685547  [   25/   41]\n"
     ]
    },
    {
     "ename": "KeyboardInterrupt",
     "evalue": "",
     "output_type": "error",
     "traceback": [
      "\u001b[1;31m---------------------------------------------------------------------------\u001b[0m",
      "\u001b[1;31mKeyboardInterrupt\u001b[0m                         Traceback (most recent call last)",
      "\u001b[1;32m~\\AppData\\Local\\Temp/ipykernel_11216/2459990949.py\u001b[0m in \u001b[0;36m<module>\u001b[1;34m\u001b[0m\n\u001b[0;32m      6\u001b[0m \u001b[1;32mfor\u001b[0m \u001b[0mt\u001b[0m \u001b[1;32min\u001b[0m \u001b[0mrange\u001b[0m\u001b[1;33m(\u001b[0m\u001b[0mepochs\u001b[0m\u001b[1;33m)\u001b[0m\u001b[1;33m:\u001b[0m\u001b[1;33m\u001b[0m\u001b[1;33m\u001b[0m\u001b[0m\n\u001b[0;32m      7\u001b[0m     \u001b[0mprint\u001b[0m\u001b[1;33m(\u001b[0m\u001b[1;34mf\"Epoch {t+1}\\n-------------------------------\"\u001b[0m\u001b[1;33m)\u001b[0m\u001b[1;33m\u001b[0m\u001b[1;33m\u001b[0m\u001b[0m\n\u001b[1;32m----> 8\u001b[1;33m     \u001b[0mtotal_loss\u001b[0m \u001b[1;33m=\u001b[0m \u001b[0mtrain\u001b[0m\u001b[1;33m(\u001b[0m\u001b[0mtrain_dataloader\u001b[0m\u001b[1;33m,\u001b[0m \u001b[0mmodel\u001b[0m\u001b[1;33m,\u001b[0m \u001b[0mloss_fn\u001b[0m\u001b[1;33m,\u001b[0m \u001b[0moptimizer\u001b[0m\u001b[1;33m)\u001b[0m\u001b[1;33m\u001b[0m\u001b[1;33m\u001b[0m\u001b[0m\n\u001b[0m\u001b[0;32m      9\u001b[0m     \u001b[1;32mif\u001b[0m\u001b[1;33m(\u001b[0m\u001b[0mtotal_loss\u001b[0m \u001b[1;33m<\u001b[0m \u001b[0mmin_loss\u001b[0m \u001b[1;33m)\u001b[0m\u001b[1;33m:\u001b[0m\u001b[1;33m\u001b[0m\u001b[1;33m\u001b[0m\u001b[0m\n\u001b[0;32m     10\u001b[0m         \u001b[0mmin_loss\u001b[0m \u001b[1;33m=\u001b[0m \u001b[0mtotal_loss\u001b[0m\u001b[1;33m\u001b[0m\u001b[1;33m\u001b[0m\u001b[0m\n",
      "\u001b[1;32m~\\AppData\\Local\\Temp/ipykernel_11216/2273354578.py\u001b[0m in \u001b[0;36mtrain\u001b[1;34m(dataloader, model, loss_fn, optimizer)\u001b[0m\n\u001b[0;32m      3\u001b[0m     \u001b[0mmodel\u001b[0m\u001b[1;33m.\u001b[0m\u001b[0mtrain\u001b[0m\u001b[1;33m(\u001b[0m\u001b[1;33m)\u001b[0m\u001b[1;33m\u001b[0m\u001b[1;33m\u001b[0m\u001b[0m\n\u001b[0;32m      4\u001b[0m     \u001b[0mtotal_loss\u001b[0m \u001b[1;33m=\u001b[0m \u001b[1;36m0\u001b[0m\u001b[1;33m\u001b[0m\u001b[1;33m\u001b[0m\u001b[0m\n\u001b[1;32m----> 5\u001b[1;33m     \u001b[1;32mfor\u001b[0m \u001b[0mbatch\u001b[0m\u001b[1;33m,\u001b[0m \u001b[1;33m(\u001b[0m\u001b[0mX\u001b[0m\u001b[1;33m,\u001b[0m \u001b[0my\u001b[0m\u001b[1;33m,\u001b[0m \u001b[0mimage\u001b[0m\u001b[1;33m)\u001b[0m \u001b[1;32min\u001b[0m \u001b[0menumerate\u001b[0m\u001b[1;33m(\u001b[0m\u001b[0mdataloader\u001b[0m\u001b[1;33m)\u001b[0m\u001b[1;33m:\u001b[0m\u001b[1;33m\u001b[0m\u001b[1;33m\u001b[0m\u001b[0m\n\u001b[0m\u001b[0;32m      6\u001b[0m         \u001b[0mX\u001b[0m \u001b[1;33m=\u001b[0m \u001b[0mX\u001b[0m\u001b[1;33m.\u001b[0m\u001b[0mfloat\u001b[0m\u001b[1;33m(\u001b[0m\u001b[1;33m)\u001b[0m\u001b[1;33m\u001b[0m\u001b[1;33m\u001b[0m\u001b[0m\n\u001b[0;32m      7\u001b[0m         \u001b[0my\u001b[0m \u001b[1;33m=\u001b[0m \u001b[0my\u001b[0m\u001b[1;33m.\u001b[0m\u001b[0mfloat\u001b[0m\u001b[1;33m(\u001b[0m\u001b[1;33m)\u001b[0m\u001b[1;33m\u001b[0m\u001b[1;33m\u001b[0m\u001b[0m\n",
      "\u001b[1;32m~\\anaconda3\\lib\\site-packages\\torch\\utils\\data\\dataloader.py\u001b[0m in \u001b[0;36m__next__\u001b[1;34m(self)\u001b[0m\n\u001b[0;32m    528\u001b[0m             \u001b[1;32mif\u001b[0m \u001b[0mself\u001b[0m\u001b[1;33m.\u001b[0m\u001b[0m_sampler_iter\u001b[0m \u001b[1;32mis\u001b[0m \u001b[1;32mNone\u001b[0m\u001b[1;33m:\u001b[0m\u001b[1;33m\u001b[0m\u001b[1;33m\u001b[0m\u001b[0m\n\u001b[0;32m    529\u001b[0m                 \u001b[0mself\u001b[0m\u001b[1;33m.\u001b[0m\u001b[0m_reset\u001b[0m\u001b[1;33m(\u001b[0m\u001b[1;33m)\u001b[0m\u001b[1;33m\u001b[0m\u001b[1;33m\u001b[0m\u001b[0m\n\u001b[1;32m--> 530\u001b[1;33m             \u001b[0mdata\u001b[0m \u001b[1;33m=\u001b[0m \u001b[0mself\u001b[0m\u001b[1;33m.\u001b[0m\u001b[0m_next_data\u001b[0m\u001b[1;33m(\u001b[0m\u001b[1;33m)\u001b[0m\u001b[1;33m\u001b[0m\u001b[1;33m\u001b[0m\u001b[0m\n\u001b[0m\u001b[0;32m    531\u001b[0m             \u001b[0mself\u001b[0m\u001b[1;33m.\u001b[0m\u001b[0m_num_yielded\u001b[0m \u001b[1;33m+=\u001b[0m \u001b[1;36m1\u001b[0m\u001b[1;33m\u001b[0m\u001b[1;33m\u001b[0m\u001b[0m\n\u001b[0;32m    532\u001b[0m             \u001b[1;32mif\u001b[0m \u001b[0mself\u001b[0m\u001b[1;33m.\u001b[0m\u001b[0m_dataset_kind\u001b[0m \u001b[1;33m==\u001b[0m \u001b[0m_DatasetKind\u001b[0m\u001b[1;33m.\u001b[0m\u001b[0mIterable\u001b[0m \u001b[1;32mand\u001b[0m\u001b[0;31m \u001b[0m\u001b[0;31m\\\u001b[0m\u001b[1;33m\u001b[0m\u001b[1;33m\u001b[0m\u001b[0m\n",
      "\u001b[1;32m~\\anaconda3\\lib\\site-packages\\torch\\utils\\data\\dataloader.py\u001b[0m in \u001b[0;36m_next_data\u001b[1;34m(self)\u001b[0m\n\u001b[0;32m    568\u001b[0m     \u001b[1;32mdef\u001b[0m \u001b[0m_next_data\u001b[0m\u001b[1;33m(\u001b[0m\u001b[0mself\u001b[0m\u001b[1;33m)\u001b[0m\u001b[1;33m:\u001b[0m\u001b[1;33m\u001b[0m\u001b[1;33m\u001b[0m\u001b[0m\n\u001b[0;32m    569\u001b[0m         \u001b[0mindex\u001b[0m \u001b[1;33m=\u001b[0m \u001b[0mself\u001b[0m\u001b[1;33m.\u001b[0m\u001b[0m_next_index\u001b[0m\u001b[1;33m(\u001b[0m\u001b[1;33m)\u001b[0m  \u001b[1;31m# may raise StopIteration\u001b[0m\u001b[1;33m\u001b[0m\u001b[1;33m\u001b[0m\u001b[0m\n\u001b[1;32m--> 570\u001b[1;33m         \u001b[0mdata\u001b[0m \u001b[1;33m=\u001b[0m \u001b[0mself\u001b[0m\u001b[1;33m.\u001b[0m\u001b[0m_dataset_fetcher\u001b[0m\u001b[1;33m.\u001b[0m\u001b[0mfetch\u001b[0m\u001b[1;33m(\u001b[0m\u001b[0mindex\u001b[0m\u001b[1;33m)\u001b[0m  \u001b[1;31m# may raise StopIteration\u001b[0m\u001b[1;33m\u001b[0m\u001b[1;33m\u001b[0m\u001b[0m\n\u001b[0m\u001b[0;32m    571\u001b[0m         \u001b[1;32mif\u001b[0m \u001b[0mself\u001b[0m\u001b[1;33m.\u001b[0m\u001b[0m_pin_memory\u001b[0m\u001b[1;33m:\u001b[0m\u001b[1;33m\u001b[0m\u001b[1;33m\u001b[0m\u001b[0m\n\u001b[0;32m    572\u001b[0m             \u001b[0mdata\u001b[0m \u001b[1;33m=\u001b[0m \u001b[0m_utils\u001b[0m\u001b[1;33m.\u001b[0m\u001b[0mpin_memory\u001b[0m\u001b[1;33m.\u001b[0m\u001b[0mpin_memory\u001b[0m\u001b[1;33m(\u001b[0m\u001b[0mdata\u001b[0m\u001b[1;33m)\u001b[0m\u001b[1;33m\u001b[0m\u001b[1;33m\u001b[0m\u001b[0m\n",
      "\u001b[1;32m~\\anaconda3\\lib\\site-packages\\torch\\utils\\data\\_utils\\fetch.py\u001b[0m in \u001b[0;36mfetch\u001b[1;34m(self, possibly_batched_index)\u001b[0m\n\u001b[0;32m     47\u001b[0m     \u001b[1;32mdef\u001b[0m \u001b[0mfetch\u001b[0m\u001b[1;33m(\u001b[0m\u001b[0mself\u001b[0m\u001b[1;33m,\u001b[0m \u001b[0mpossibly_batched_index\u001b[0m\u001b[1;33m)\u001b[0m\u001b[1;33m:\u001b[0m\u001b[1;33m\u001b[0m\u001b[1;33m\u001b[0m\u001b[0m\n\u001b[0;32m     48\u001b[0m         \u001b[1;32mif\u001b[0m \u001b[0mself\u001b[0m\u001b[1;33m.\u001b[0m\u001b[0mauto_collation\u001b[0m\u001b[1;33m:\u001b[0m\u001b[1;33m\u001b[0m\u001b[1;33m\u001b[0m\u001b[0m\n\u001b[1;32m---> 49\u001b[1;33m             \u001b[0mdata\u001b[0m \u001b[1;33m=\u001b[0m \u001b[1;33m[\u001b[0m\u001b[0mself\u001b[0m\u001b[1;33m.\u001b[0m\u001b[0mdataset\u001b[0m\u001b[1;33m[\u001b[0m\u001b[0midx\u001b[0m\u001b[1;33m]\u001b[0m \u001b[1;32mfor\u001b[0m \u001b[0midx\u001b[0m \u001b[1;32min\u001b[0m \u001b[0mpossibly_batched_index\u001b[0m\u001b[1;33m]\u001b[0m\u001b[1;33m\u001b[0m\u001b[1;33m\u001b[0m\u001b[0m\n\u001b[0m\u001b[0;32m     50\u001b[0m         \u001b[1;32melse\u001b[0m\u001b[1;33m:\u001b[0m\u001b[1;33m\u001b[0m\u001b[1;33m\u001b[0m\u001b[0m\n\u001b[0;32m     51\u001b[0m             \u001b[0mdata\u001b[0m \u001b[1;33m=\u001b[0m \u001b[0mself\u001b[0m\u001b[1;33m.\u001b[0m\u001b[0mdataset\u001b[0m\u001b[1;33m[\u001b[0m\u001b[0mpossibly_batched_index\u001b[0m\u001b[1;33m]\u001b[0m\u001b[1;33m\u001b[0m\u001b[1;33m\u001b[0m\u001b[0m\n",
      "\u001b[1;32m~\\anaconda3\\lib\\site-packages\\torch\\utils\\data\\_utils\\fetch.py\u001b[0m in \u001b[0;36m<listcomp>\u001b[1;34m(.0)\u001b[0m\n\u001b[0;32m     47\u001b[0m     \u001b[1;32mdef\u001b[0m \u001b[0mfetch\u001b[0m\u001b[1;33m(\u001b[0m\u001b[0mself\u001b[0m\u001b[1;33m,\u001b[0m \u001b[0mpossibly_batched_index\u001b[0m\u001b[1;33m)\u001b[0m\u001b[1;33m:\u001b[0m\u001b[1;33m\u001b[0m\u001b[1;33m\u001b[0m\u001b[0m\n\u001b[0;32m     48\u001b[0m         \u001b[1;32mif\u001b[0m \u001b[0mself\u001b[0m\u001b[1;33m.\u001b[0m\u001b[0mauto_collation\u001b[0m\u001b[1;33m:\u001b[0m\u001b[1;33m\u001b[0m\u001b[1;33m\u001b[0m\u001b[0m\n\u001b[1;32m---> 49\u001b[1;33m             \u001b[0mdata\u001b[0m \u001b[1;33m=\u001b[0m \u001b[1;33m[\u001b[0m\u001b[0mself\u001b[0m\u001b[1;33m.\u001b[0m\u001b[0mdataset\u001b[0m\u001b[1;33m[\u001b[0m\u001b[0midx\u001b[0m\u001b[1;33m]\u001b[0m \u001b[1;32mfor\u001b[0m \u001b[0midx\u001b[0m \u001b[1;32min\u001b[0m \u001b[0mpossibly_batched_index\u001b[0m\u001b[1;33m]\u001b[0m\u001b[1;33m\u001b[0m\u001b[1;33m\u001b[0m\u001b[0m\n\u001b[0m\u001b[0;32m     50\u001b[0m         \u001b[1;32melse\u001b[0m\u001b[1;33m:\u001b[0m\u001b[1;33m\u001b[0m\u001b[1;33m\u001b[0m\u001b[0m\n\u001b[0;32m     51\u001b[0m             \u001b[0mdata\u001b[0m \u001b[1;33m=\u001b[0m \u001b[0mself\u001b[0m\u001b[1;33m.\u001b[0m\u001b[0mdataset\u001b[0m\u001b[1;33m[\u001b[0m\u001b[0mpossibly_batched_index\u001b[0m\u001b[1;33m]\u001b[0m\u001b[1;33m\u001b[0m\u001b[1;33m\u001b[0m\u001b[0m\n",
      "\u001b[1;32mD:\\Project\\Tony\\nail_seg\\code\\Nail_dataset.py\u001b[0m in \u001b[0;36m__getitem__\u001b[1;34m(self, idx)\u001b[0m\n\u001b[0;32m     19\u001b[0m             \u001b[0mmask_path\u001b[0m \u001b[1;33m=\u001b[0m \u001b[0mself\u001b[0m\u001b[1;33m.\u001b[0m\u001b[0mdf\u001b[0m\u001b[1;33m[\u001b[0m\u001b[1;34m\"mask_path\"\u001b[0m\u001b[1;33m]\u001b[0m\u001b[1;33m[\u001b[0m\u001b[0midx\u001b[0m\u001b[1;33m]\u001b[0m\u001b[1;33m\u001b[0m\u001b[1;33m\u001b[0m\u001b[0m\n\u001b[0;32m     20\u001b[0m \u001b[1;33m\u001b[0m\u001b[0m\n\u001b[1;32m---> 21\u001b[1;33m             \u001b[0mimage\u001b[0m \u001b[1;33m=\u001b[0m \u001b[0mcv2\u001b[0m\u001b[1;33m.\u001b[0m\u001b[0mimread\u001b[0m\u001b[1;33m(\u001b[0m\u001b[0mimage_path\u001b[0m\u001b[1;33m)\u001b[0m\u001b[1;33m\u001b[0m\u001b[1;33m\u001b[0m\u001b[0m\n\u001b[0m\u001b[0;32m     22\u001b[0m             \u001b[0mmask\u001b[0m \u001b[1;33m=\u001b[0m \u001b[0mcv2\u001b[0m\u001b[1;33m.\u001b[0m\u001b[0mimread\u001b[0m\u001b[1;33m(\u001b[0m\u001b[0mmask_path\u001b[0m\u001b[1;33m,\u001b[0m \u001b[0mcv2\u001b[0m\u001b[1;33m.\u001b[0m\u001b[0mIMREAD_GRAYSCALE\u001b[0m\u001b[1;33m)\u001b[0m\u001b[1;33m\u001b[0m\u001b[1;33m\u001b[0m\u001b[0m\n\u001b[0;32m     23\u001b[0m             \u001b[0mimage\u001b[0m \u001b[1;33m=\u001b[0m \u001b[0mcv2\u001b[0m\u001b[1;33m.\u001b[0m\u001b[0mresize\u001b[0m\u001b[1;33m(\u001b[0m\u001b[0mimage\u001b[0m\u001b[1;33m,\u001b[0m \u001b[1;33m(\u001b[0m\u001b[1;36m256\u001b[0m\u001b[1;33m,\u001b[0m \u001b[1;36m256\u001b[0m\u001b[1;33m)\u001b[0m\u001b[1;33m,\u001b[0m \u001b[0minterpolation\u001b[0m\u001b[1;33m=\u001b[0m\u001b[0mcv2\u001b[0m\u001b[1;33m.\u001b[0m\u001b[0mINTER_AREA\u001b[0m\u001b[1;33m)\u001b[0m\u001b[1;33m\u001b[0m\u001b[1;33m\u001b[0m\u001b[0m\n",
      "\u001b[1;31mKeyboardInterrupt\u001b[0m: "
     ]
    }
   ],
   "source": [
    "epochs = 200\n",
    "device = 'cuda' if torch.cuda.is_available() else \"cpu\"\n",
    "# device = 'cpu'\n",
    "print(device)\n",
    "min_loss=10000000000\n",
    "for t in range(epochs):\n",
    "    print(f\"Epoch {t+1}\\n-------------------------------\")\n",
    "    total_loss = train(train_dataloader, model, loss_fn, optimizer)\n",
    "    if(total_loss < min_loss ):\n",
    "        min_loss = total_loss\n",
    "        print(\"#########save_best_model###########\")\n",
    "        torch.save(model.state_dict(), \"best_model.pth\")\n",
    "print(\"Done!\")"
   ]
  },
  {
   "cell_type": "code",
   "execution_count": null,
   "id": "822e5bc1",
   "metadata": {},
   "outputs": [],
   "source": [
    "ls D:\\Project\\Tony\\anemia\\code\\keras_version"
   ]
  },
  {
   "cell_type": "code",
   "execution_count": null,
   "id": "d1eeb41e",
   "metadata": {},
   "outputs": [],
   "source": [
    "torch.save(model.state_dict(), \"D:/Project/Tony/anemia/code/keras_version/best_model_equalizehist.pth\")"
   ]
  },
  {
   "cell_type": "code",
   "execution_count": 33,
   "id": "solid-private",
   "metadata": {},
   "outputs": [
    {
     "name": "stdout",
     "output_type": "stream",
     "text": [
      "torch.Size([1, 1, 256, 256])\n"
     ]
    },
    {
     "data": {
      "text/plain": [
       "<matplotlib.image.AxesImage at 0x18c38feb190>"
      ]
     },
     "execution_count": 33,
     "metadata": {},
     "output_type": "execute_result"
    },
    {
     "data": {
      "image/png": "[encoded data removed]",
      "text/plain": [
       "<Figure size 432x288 with 3 Axes>"
      ]
     },
     "metadata": {
      "needs_background": "light"
     },
     "output_type": "display_data"
    }
   ],
   "source": [
    "# model.load_state_dict(torch.load(\"best_model.pth\"))\n",
    "image, mask, origin_image = next(iter(train_dataloader))\n",
    "image = image.float()\n",
    "image = image.to(device)\n",
    "prediction = model(image)\n",
    "prediction = prediction.detach().cpu().numpy()\n",
    "# for i in range(0, prediction.shape[2]):\n",
    "#     for j in range(0, prediction.shape[3]):\n",
    "#         if(prediction[0][0][i][j]<1.3):\n",
    "#             prediction[0][0][i][j] = 0\n",
    "#         else:\n",
    "#             prediction[0][0][i][j] = 1\n",
    "print(image.shape)\n",
    "plt.subplot(1,3,1)\n",
    "plt.imshow(prediction[0][0])\n",
    "plt.subplot(1,3,2)\n",
    "plt.imshow(mask[0])\n",
    "plt.subplot(1,3,3)\n",
    "plt.imshow(origin_image[0].cpu())"
   ]
  },
  {
   "cell_type": "code",
   "execution_count": null,
   "id": "bf26d389",
   "metadata": {},
   "outputs": [],
   "source": [
    "p"
   ]
  },
  {
   "cell_type": "code",
   "execution_count": null,
   "id": "14354189",
   "metadata": {},
   "outputs": [],
   "source": [
    "plt.imshow(prediction[0][0])\n",
    "plt.show()"
   ]
  },
  {
   "cell_type": "code",
   "execution_count": null,
   "id": "914926a9",
   "metadata": {},
   "outputs": [],
   "source": [
    "plt.imshow(mask[0])\n",
    "plt.show()"
   ]
  },
  {
   "cell_type": "code",
   "execution_count": null,
   "id": "1d0fc220",
   "metadata": {},
   "outputs": [],
   "source": []
  },
  {
   "cell_type": "code",
   "execution_count": null,
   "id": "fc56383b",
   "metadata": {},
   "outputs": [],
   "source": []
  }
 ],
 "metadata": {
  "kernelspec": {
   "display_name": "Python 3 (ipykernel)",
   "language": "python",
   "name": "python3"
  },
  "language_info": {
   "codemirror_mode": {
    "name": "ipython",
    "version": 3
   },
   "file_extension": ".py",
   "mimetype": "text/x-python",
   "name": "python",
   "nbconvert_exporter": "python",
   "pygments_lexer": "ipython3",
   "version": "3.9.7"
  }
 },
 "nbformat": 4,
 "nbformat_minor": 5
}
