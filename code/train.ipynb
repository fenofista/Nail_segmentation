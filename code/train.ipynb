{
 "cells": [
  {
   "cell_type": "code",
   "execution_count": 1,
   "id": "charming-fiber",
   "metadata": {},
   "outputs": [],
   "source": [
    "import torch\n",
    "import torch.nn as nn\n",
    "from Nail_dataset import get_dataset\n",
    "from torch.utils.data import DataLoader\n",
    "from Model import get_model\n",
    "import matplotlib.pyplot as plt\n",
    "import cv2\n",
    "import torch.nn.functional as F"
   ]
  },
  {
   "cell_type": "code",
   "execution_count": 2,
   "id": "97765041",
   "metadata": {},
   "outputs": [],
   "source": [
    "import os    \n",
    "os.environ['KMP_DUPLICATE_LIB_OK']='True'"
   ]
  },
  {
   "cell_type": "code",
   "execution_count": 3,
   "id": "serious-compatibility",
   "metadata": {},
   "outputs": [],
   "source": [
    "class DiceLoss(nn.Module):\n",
    "    def __init__(self):\n",
    "        super(DiceLoss, self).__init__()\n",
    " \n",
    "    def forward(self, input, target):\n",
    "        N = target.size(0)\n",
    "        smooth = 1\n",
    " \n",
    "        input_flat = input.view(N, -1)\n",
    "        target_flat = target.view(N, -1)\n",
    " \n",
    "        intersection = input_flat * target_flat\n",
    " \n",
    "        loss = 2 * (intersection.sum(1) + smooth) / (input_flat.sum(1) + target_flat.sum(1) + smooth)\n",
    "        loss = 1 - loss.sum() / N\n",
    " \n",
    "        return loss\n"
   ]
  },
  {
   "cell_type": "code",
   "execution_count": null,
   "id": "7330c1b9",
   "metadata": {},
   "outputs": [],
   "source": []
  },
  {
   "cell_type": "code",
   "execution_count": 4,
   "id": "liked-playing",
   "metadata": {},
   "outputs": [],
   "source": [
    "\n",
    "def train(dataloader, model, loss_fn, optimizer):\n",
    "    size = len(dataloader.dataset)\n",
    "    model.train()\n",
    "    total_loss = 0\n",
    "    for batch, (X, y, image) in enumerate(dataloader):\n",
    "        X = X.float()\n",
    "        y = y.float()\n",
    "        X, y = X.to(device), y.to(device)\n",
    "        \n",
    "        X = X.requires_grad_()\n",
    "        # Compute prediction error\n",
    "        pred = model(X)\n",
    "        pred = F.sigmoid(pred)\n",
    "#         loss = loss_fn(pred, y)\n",
    "#         print(pred.shape)\n",
    "#         print(y.shape)\n",
    "\n",
    "        pred = torch.reshape(pred, (1,256,256))\n",
    "        \n",
    "        pred_flat = pred.view(-1)\n",
    "\n",
    "        y_flat = y.view(-1)\n",
    "            \n",
    "            \n",
    "        loss = loss_fn(pred_flat, y_flat)\n",
    "#         print(loss)\n",
    "        total_loss+=abs(loss)\n",
    "        # Backpropagation\n",
    "        optimizer.zero_grad()\n",
    "        loss.backward()\n",
    "        optimizer.step()\n",
    "        \n",
    "        if batch % 25 == 0:\n",
    "            loss, current = loss.item(), batch * len(X)\n",
    "            print(f\"total_loss: {total_loss:>7f}  [{current:>5d}/{size:>5d}]\")\n",
    "    return total_loss"
   ]
  },
  {
   "cell_type": "code",
   "execution_count": 5,
   "id": "extreme-mercy",
   "metadata": {},
   "outputs": [],
   "source": [
    "dataset = get_dataset()\n",
    "\n",
    "train_dataloader = DataLoader(dataset, batch_size=1, shuffle=True)\n",
    "\n",
    "model = get_model()\n",
    "\n",
    "# loss_fn = DiceLoss()\n",
    "loss_fn = nn.BCELoss()\n",
    "optimizer = torch.optim.Adam(model.parameters(), lr=1e-5)"
   ]
  },
  {
   "cell_type": "code",
   "execution_count": 7,
   "id": "incorrect-bidder",
   "metadata": {},
   "outputs": [],
   "source": [
    "image, mask, origin_image = next(iter(train_dataloader))"
   ]
  },
  {
   "cell_type": "code",
   "execution_count": 8,
   "id": "impaired-toyota",
   "metadata": {
    "scrolled": true
   },
   "outputs": [
    {
     "name": "stdout",
     "output_type": "stream",
     "text": [
      "cuda\n",
      "Epoch 1\n",
      "-------------------------------\n"
     ]
    },
    {
     "name": "stderr",
     "output_type": "stream",
     "text": [
      "C:\\Users\\HMILAB\\anaconda3\\lib\\site-packages\\torch\\nn\\functional.py:1944: UserWarning: nn.functional.sigmoid is deprecated. Use torch.sigmoid instead.\n",
      "  warnings.warn(\"nn.functional.sigmoid is deprecated. Use torch.sigmoid instead.\")\n"
     ]
    },
    {
     "name": "stdout",
     "output_type": "stream",
     "text": [
      "total_loss: 0.685322  [    0/   41]\n",
      "total_loss: 41.748562  [   25/   41]\n",
      "#########save_best_model###########\n",
      "Epoch 2\n",
      "-------------------------------\n",
      "total_loss: 10.926260  [    0/   41]\n",
      "total_loss: 440.385345  [   25/   41]\n",
      "Epoch 3\n",
      "-------------------------------\n",
      "total_loss: 14.423229  [    0/   41]\n",
      "total_loss: 919.023193  [   25/   41]\n",
      "Epoch 4\n",
      "-------------------------------\n",
      "total_loss: 50.787392  [    0/   41]\n",
      "total_loss: 1729.036255  [   25/   41]\n",
      "Epoch 5\n",
      "-------------------------------\n",
      "total_loss: 97.600456  [    0/   41]\n",
      "total_loss: 2243.604004  [   25/   41]\n",
      "Epoch 6\n",
      "-------------------------------\n",
      "total_loss: 111.810074  [    0/   41]\n",
      "total_loss: 2763.513672  [   25/   41]\n",
      "Epoch 7\n",
      "-------------------------------\n",
      "total_loss: 196.893616  [    0/   41]\n",
      "total_loss: 3322.303711  [   25/   41]\n",
      "Epoch 8\n",
      "-------------------------------\n",
      "total_loss: 136.363861  [    0/   41]\n",
      "total_loss: 3538.057129  [   25/   41]\n",
      "Epoch 9\n",
      "-------------------------------\n",
      "total_loss: 101.478012  [    0/   41]\n",
      "total_loss: 3628.182129  [   25/   41]\n",
      "Epoch 10\n",
      "-------------------------------\n",
      "total_loss: 124.808380  [    0/   41]\n",
      "total_loss: 3844.921875  [   25/   41]\n",
      "Epoch 11\n",
      "-------------------------------\n",
      "total_loss: 170.645798  [    0/   41]\n",
      "total_loss: 4249.123535  [   25/   41]\n",
      "Epoch 12\n",
      "-------------------------------\n",
      "total_loss: 181.690277  [    0/   41]\n",
      "total_loss: 4351.161621  [   25/   41]\n",
      "Epoch 13\n",
      "-------------------------------\n",
      "total_loss: 167.801361  [    0/   41]\n",
      "total_loss: 4494.380859  [   25/   41]\n",
      "Epoch 14\n",
      "-------------------------------\n",
      "total_loss: 141.103897  [    0/   41]\n",
      "total_loss: 4568.225098  [   25/   41]\n",
      "Epoch 15\n",
      "-------------------------------\n",
      "total_loss: 232.100510  [    0/   41]\n",
      "total_loss: 4577.053223  [   25/   41]\n",
      "Epoch 16\n",
      "-------------------------------\n",
      "total_loss: 202.487885  [    0/   41]\n",
      "total_loss: 4717.243652  [   25/   41]\n",
      "Epoch 17\n",
      "-------------------------------\n",
      "total_loss: 208.057831  [    0/   41]\n",
      "total_loss: 4763.214844  [   25/   41]\n",
      "Epoch 18\n",
      "-------------------------------\n",
      "total_loss: 174.130707  [    0/   41]\n",
      "total_loss: 5126.094727  [   25/   41]\n",
      "Epoch 19\n",
      "-------------------------------\n",
      "total_loss: 258.929657  [    0/   41]\n",
      "total_loss: 5476.437988  [   25/   41]\n",
      "Epoch 20\n",
      "-------------------------------\n",
      "total_loss: 241.560333  [    0/   41]\n",
      "total_loss: 5219.965820  [   25/   41]\n",
      "Epoch 21\n",
      "-------------------------------\n",
      "total_loss: 221.512436  [    0/   41]\n",
      "total_loss: 5472.433105  [   25/   41]\n",
      "Epoch 22\n",
      "-------------------------------\n",
      "total_loss: 265.922638  [    0/   41]\n",
      "total_loss: 5464.541504  [   25/   41]\n",
      "Epoch 23\n",
      "-------------------------------\n",
      "total_loss: 241.311035  [    0/   41]\n",
      "total_loss: 5783.339355  [   25/   41]\n",
      "Epoch 24\n",
      "-------------------------------\n",
      "total_loss: 280.049744  [    0/   41]\n",
      "total_loss: 5497.406738  [   25/   41]\n",
      "Epoch 25\n",
      "-------------------------------\n",
      "total_loss: 265.178986  [    0/   41]\n",
      "total_loss: 5767.116211  [   25/   41]\n",
      "Epoch 26\n",
      "-------------------------------\n",
      "total_loss: 144.707611  [    0/   41]\n",
      "total_loss: 5742.462891  [   25/   41]\n",
      "Epoch 27\n",
      "-------------------------------\n",
      "total_loss: 207.118057  [    0/   41]\n",
      "total_loss: 5687.165527  [   25/   41]\n",
      "Epoch 28\n",
      "-------------------------------\n",
      "total_loss: 348.138184  [    0/   41]\n",
      "total_loss: 5958.678223  [   25/   41]\n",
      "Epoch 29\n",
      "-------------------------------\n",
      "total_loss: 153.173248  [    0/   41]\n",
      "total_loss: 6233.757324  [   25/   41]\n",
      "Epoch 30\n",
      "-------------------------------\n",
      "total_loss: 286.968445  [    0/   41]\n",
      "total_loss: 5765.992188  [   25/   41]\n",
      "Epoch 31\n",
      "-------------------------------\n",
      "total_loss: 355.231018  [    0/   41]\n",
      "total_loss: 5974.323242  [   25/   41]\n",
      "Epoch 32\n",
      "-------------------------------\n",
      "total_loss: 156.605499  [    0/   41]\n",
      "total_loss: 6104.567871  [   25/   41]\n",
      "Epoch 33\n",
      "-------------------------------\n",
      "total_loss: 217.992188  [    0/   41]\n",
      "total_loss: 6186.989746  [   25/   41]\n",
      "Epoch 34\n",
      "-------------------------------\n",
      "total_loss: 159.035492  [    0/   41]\n",
      "total_loss: 5920.431641  [   25/   41]\n",
      "Epoch 35\n",
      "-------------------------------\n",
      "total_loss: 166.617538  [    0/   41]\n",
      "total_loss: 6680.750488  [   25/   41]\n",
      "Epoch 36\n",
      "-------------------------------\n",
      "total_loss: 361.018005  [    0/   41]\n",
      "total_loss: 6861.210449  [   25/   41]\n",
      "Epoch 37\n",
      "-------------------------------\n",
      "total_loss: 162.227020  [    0/   41]\n",
      "total_loss: 6261.811035  [   25/   41]\n",
      "Epoch 38\n",
      "-------------------------------\n",
      "total_loss: 368.364624  [    0/   41]\n",
      "total_loss: 6518.903320  [   25/   41]\n",
      "Epoch 39\n",
      "-------------------------------\n",
      "total_loss: 245.564423  [    0/   41]\n",
      "total_loss: 6660.519531  [   25/   41]\n",
      "Epoch 40\n",
      "-------------------------------\n",
      "total_loss: 162.377899  [    0/   41]\n",
      "total_loss: 6693.464355  [   25/   41]\n",
      "Epoch 41\n",
      "-------------------------------\n",
      "total_loss: 248.700439  [    0/   41]\n"
     ]
    },
    {
     "ename": "KeyboardInterrupt",
     "evalue": "",
     "output_type": "error",
     "traceback": [
      "\u001b[1;31m---------------------------------------------------------------------------\u001b[0m",
      "\u001b[1;31mKeyboardInterrupt\u001b[0m                         Traceback (most recent call last)",
      "\u001b[1;32m~\\AppData\\Local\\Temp/ipykernel_12536/2459990949.py\u001b[0m in \u001b[0;36m<module>\u001b[1;34m\u001b[0m\n\u001b[0;32m      6\u001b[0m \u001b[1;32mfor\u001b[0m \u001b[0mt\u001b[0m \u001b[1;32min\u001b[0m \u001b[0mrange\u001b[0m\u001b[1;33m(\u001b[0m\u001b[0mepochs\u001b[0m\u001b[1;33m)\u001b[0m\u001b[1;33m:\u001b[0m\u001b[1;33m\u001b[0m\u001b[1;33m\u001b[0m\u001b[0m\n\u001b[0;32m      7\u001b[0m     \u001b[0mprint\u001b[0m\u001b[1;33m(\u001b[0m\u001b[1;34mf\"Epoch {t+1}\\n-------------------------------\"\u001b[0m\u001b[1;33m)\u001b[0m\u001b[1;33m\u001b[0m\u001b[1;33m\u001b[0m\u001b[0m\n\u001b[1;32m----> 8\u001b[1;33m     \u001b[0mtotal_loss\u001b[0m \u001b[1;33m=\u001b[0m \u001b[0mtrain\u001b[0m\u001b[1;33m(\u001b[0m\u001b[0mtrain_dataloader\u001b[0m\u001b[1;33m,\u001b[0m \u001b[0mmodel\u001b[0m\u001b[1;33m,\u001b[0m \u001b[0mloss_fn\u001b[0m\u001b[1;33m,\u001b[0m \u001b[0moptimizer\u001b[0m\u001b[1;33m)\u001b[0m\u001b[1;33m\u001b[0m\u001b[1;33m\u001b[0m\u001b[0m\n\u001b[0m\u001b[0;32m      9\u001b[0m     \u001b[1;32mif\u001b[0m\u001b[1;33m(\u001b[0m\u001b[0mtotal_loss\u001b[0m \u001b[1;33m<\u001b[0m \u001b[0mmin_loss\u001b[0m \u001b[1;33m)\u001b[0m\u001b[1;33m:\u001b[0m\u001b[1;33m\u001b[0m\u001b[1;33m\u001b[0m\u001b[0m\n\u001b[0;32m     10\u001b[0m         \u001b[0mmin_loss\u001b[0m \u001b[1;33m=\u001b[0m \u001b[0mtotal_loss\u001b[0m\u001b[1;33m\u001b[0m\u001b[1;33m\u001b[0m\u001b[0m\n",
      "\u001b[1;32m~\\AppData\\Local\\Temp/ipykernel_12536/2273354578.py\u001b[0m in \u001b[0;36mtrain\u001b[1;34m(dataloader, model, loss_fn, optimizer)\u001b[0m\n\u001b[0;32m      3\u001b[0m     \u001b[0mmodel\u001b[0m\u001b[1;33m.\u001b[0m\u001b[0mtrain\u001b[0m\u001b[1;33m(\u001b[0m\u001b[1;33m)\u001b[0m\u001b[1;33m\u001b[0m\u001b[1;33m\u001b[0m\u001b[0m\n\u001b[0;32m      4\u001b[0m     \u001b[0mtotal_loss\u001b[0m \u001b[1;33m=\u001b[0m \u001b[1;36m0\u001b[0m\u001b[1;33m\u001b[0m\u001b[1;33m\u001b[0m\u001b[0m\n\u001b[1;32m----> 5\u001b[1;33m     \u001b[1;32mfor\u001b[0m \u001b[0mbatch\u001b[0m\u001b[1;33m,\u001b[0m \u001b[1;33m(\u001b[0m\u001b[0mX\u001b[0m\u001b[1;33m,\u001b[0m \u001b[0my\u001b[0m\u001b[1;33m,\u001b[0m \u001b[0mimage\u001b[0m\u001b[1;33m)\u001b[0m \u001b[1;32min\u001b[0m \u001b[0menumerate\u001b[0m\u001b[1;33m(\u001b[0m\u001b[0mdataloader\u001b[0m\u001b[1;33m)\u001b[0m\u001b[1;33m:\u001b[0m\u001b[1;33m\u001b[0m\u001b[1;33m\u001b[0m\u001b[0m\n\u001b[0m\u001b[0;32m      6\u001b[0m         \u001b[0mX\u001b[0m \u001b[1;33m=\u001b[0m \u001b[0mX\u001b[0m\u001b[1;33m.\u001b[0m\u001b[0mfloat\u001b[0m\u001b[1;33m(\u001b[0m\u001b[1;33m)\u001b[0m\u001b[1;33m\u001b[0m\u001b[1;33m\u001b[0m\u001b[0m\n\u001b[0;32m      7\u001b[0m         \u001b[0my\u001b[0m \u001b[1;33m=\u001b[0m \u001b[0my\u001b[0m\u001b[1;33m.\u001b[0m\u001b[0mfloat\u001b[0m\u001b[1;33m(\u001b[0m\u001b[1;33m)\u001b[0m\u001b[1;33m\u001b[0m\u001b[1;33m\u001b[0m\u001b[0m\n",
      "\u001b[1;32m~\\anaconda3\\lib\\site-packages\\torch\\utils\\data\\dataloader.py\u001b[0m in \u001b[0;36m__next__\u001b[1;34m(self)\u001b[0m\n\u001b[0;32m    528\u001b[0m             \u001b[1;32mif\u001b[0m \u001b[0mself\u001b[0m\u001b[1;33m.\u001b[0m\u001b[0m_sampler_iter\u001b[0m \u001b[1;32mis\u001b[0m \u001b[1;32mNone\u001b[0m\u001b[1;33m:\u001b[0m\u001b[1;33m\u001b[0m\u001b[1;33m\u001b[0m\u001b[0m\n\u001b[0;32m    529\u001b[0m                 \u001b[0mself\u001b[0m\u001b[1;33m.\u001b[0m\u001b[0m_reset\u001b[0m\u001b[1;33m(\u001b[0m\u001b[1;33m)\u001b[0m\u001b[1;33m\u001b[0m\u001b[1;33m\u001b[0m\u001b[0m\n\u001b[1;32m--> 530\u001b[1;33m             \u001b[0mdata\u001b[0m \u001b[1;33m=\u001b[0m \u001b[0mself\u001b[0m\u001b[1;33m.\u001b[0m\u001b[0m_next_data\u001b[0m\u001b[1;33m(\u001b[0m\u001b[1;33m)\u001b[0m\u001b[1;33m\u001b[0m\u001b[1;33m\u001b[0m\u001b[0m\n\u001b[0m\u001b[0;32m    531\u001b[0m             \u001b[0mself\u001b[0m\u001b[1;33m.\u001b[0m\u001b[0m_num_yielded\u001b[0m \u001b[1;33m+=\u001b[0m \u001b[1;36m1\u001b[0m\u001b[1;33m\u001b[0m\u001b[1;33m\u001b[0m\u001b[0m\n\u001b[0;32m    532\u001b[0m             \u001b[1;32mif\u001b[0m \u001b[0mself\u001b[0m\u001b[1;33m.\u001b[0m\u001b[0m_dataset_kind\u001b[0m \u001b[1;33m==\u001b[0m \u001b[0m_DatasetKind\u001b[0m\u001b[1;33m.\u001b[0m\u001b[0mIterable\u001b[0m \u001b[1;32mand\u001b[0m\u001b[0;31m \u001b[0m\u001b[0;31m\\\u001b[0m\u001b[1;33m\u001b[0m\u001b[1;33m\u001b[0m\u001b[0m\n",
      "\u001b[1;32m~\\anaconda3\\lib\\site-packages\\torch\\utils\\data\\dataloader.py\u001b[0m in \u001b[0;36m_next_data\u001b[1;34m(self)\u001b[0m\n\u001b[0;32m    568\u001b[0m     \u001b[1;32mdef\u001b[0m \u001b[0m_next_data\u001b[0m\u001b[1;33m(\u001b[0m\u001b[0mself\u001b[0m\u001b[1;33m)\u001b[0m\u001b[1;33m:\u001b[0m\u001b[1;33m\u001b[0m\u001b[1;33m\u001b[0m\u001b[0m\n\u001b[0;32m    569\u001b[0m         \u001b[0mindex\u001b[0m \u001b[1;33m=\u001b[0m \u001b[0mself\u001b[0m\u001b[1;33m.\u001b[0m\u001b[0m_next_index\u001b[0m\u001b[1;33m(\u001b[0m\u001b[1;33m)\u001b[0m  \u001b[1;31m# may raise StopIteration\u001b[0m\u001b[1;33m\u001b[0m\u001b[1;33m\u001b[0m\u001b[0m\n\u001b[1;32m--> 570\u001b[1;33m         \u001b[0mdata\u001b[0m \u001b[1;33m=\u001b[0m \u001b[0mself\u001b[0m\u001b[1;33m.\u001b[0m\u001b[0m_dataset_fetcher\u001b[0m\u001b[1;33m.\u001b[0m\u001b[0mfetch\u001b[0m\u001b[1;33m(\u001b[0m\u001b[0mindex\u001b[0m\u001b[1;33m)\u001b[0m  \u001b[1;31m# may raise StopIteration\u001b[0m\u001b[1;33m\u001b[0m\u001b[1;33m\u001b[0m\u001b[0m\n\u001b[0m\u001b[0;32m    571\u001b[0m         \u001b[1;32mif\u001b[0m \u001b[0mself\u001b[0m\u001b[1;33m.\u001b[0m\u001b[0m_pin_memory\u001b[0m\u001b[1;33m:\u001b[0m\u001b[1;33m\u001b[0m\u001b[1;33m\u001b[0m\u001b[0m\n\u001b[0;32m    572\u001b[0m             \u001b[0mdata\u001b[0m \u001b[1;33m=\u001b[0m \u001b[0m_utils\u001b[0m\u001b[1;33m.\u001b[0m\u001b[0mpin_memory\u001b[0m\u001b[1;33m.\u001b[0m\u001b[0mpin_memory\u001b[0m\u001b[1;33m(\u001b[0m\u001b[0mdata\u001b[0m\u001b[1;33m)\u001b[0m\u001b[1;33m\u001b[0m\u001b[1;33m\u001b[0m\u001b[0m\n",
      "\u001b[1;32m~\\anaconda3\\lib\\site-packages\\torch\\utils\\data\\_utils\\fetch.py\u001b[0m in \u001b[0;36mfetch\u001b[1;34m(self, possibly_batched_index)\u001b[0m\n\u001b[0;32m     47\u001b[0m     \u001b[1;32mdef\u001b[0m \u001b[0mfetch\u001b[0m\u001b[1;33m(\u001b[0m\u001b[0mself\u001b[0m\u001b[1;33m,\u001b[0m \u001b[0mpossibly_batched_index\u001b[0m\u001b[1;33m)\u001b[0m\u001b[1;33m:\u001b[0m\u001b[1;33m\u001b[0m\u001b[1;33m\u001b[0m\u001b[0m\n\u001b[0;32m     48\u001b[0m         \u001b[1;32mif\u001b[0m \u001b[0mself\u001b[0m\u001b[1;33m.\u001b[0m\u001b[0mauto_collation\u001b[0m\u001b[1;33m:\u001b[0m\u001b[1;33m\u001b[0m\u001b[1;33m\u001b[0m\u001b[0m\n\u001b[1;32m---> 49\u001b[1;33m             \u001b[0mdata\u001b[0m \u001b[1;33m=\u001b[0m \u001b[1;33m[\u001b[0m\u001b[0mself\u001b[0m\u001b[1;33m.\u001b[0m\u001b[0mdataset\u001b[0m\u001b[1;33m[\u001b[0m\u001b[0midx\u001b[0m\u001b[1;33m]\u001b[0m \u001b[1;32mfor\u001b[0m \u001b[0midx\u001b[0m \u001b[1;32min\u001b[0m \u001b[0mpossibly_batched_index\u001b[0m\u001b[1;33m]\u001b[0m\u001b[1;33m\u001b[0m\u001b[1;33m\u001b[0m\u001b[0m\n\u001b[0m\u001b[0;32m     50\u001b[0m         \u001b[1;32melse\u001b[0m\u001b[1;33m:\u001b[0m\u001b[1;33m\u001b[0m\u001b[1;33m\u001b[0m\u001b[0m\n\u001b[0;32m     51\u001b[0m             \u001b[0mdata\u001b[0m \u001b[1;33m=\u001b[0m \u001b[0mself\u001b[0m\u001b[1;33m.\u001b[0m\u001b[0mdataset\u001b[0m\u001b[1;33m[\u001b[0m\u001b[0mpossibly_batched_index\u001b[0m\u001b[1;33m]\u001b[0m\u001b[1;33m\u001b[0m\u001b[1;33m\u001b[0m\u001b[0m\n",
      "\u001b[1;32m~\\anaconda3\\lib\\site-packages\\torch\\utils\\data\\_utils\\fetch.py\u001b[0m in \u001b[0;36m<listcomp>\u001b[1;34m(.0)\u001b[0m\n\u001b[0;32m     47\u001b[0m     \u001b[1;32mdef\u001b[0m \u001b[0mfetch\u001b[0m\u001b[1;33m(\u001b[0m\u001b[0mself\u001b[0m\u001b[1;33m,\u001b[0m \u001b[0mpossibly_batched_index\u001b[0m\u001b[1;33m)\u001b[0m\u001b[1;33m:\u001b[0m\u001b[1;33m\u001b[0m\u001b[1;33m\u001b[0m\u001b[0m\n\u001b[0;32m     48\u001b[0m         \u001b[1;32mif\u001b[0m \u001b[0mself\u001b[0m\u001b[1;33m.\u001b[0m\u001b[0mauto_collation\u001b[0m\u001b[1;33m:\u001b[0m\u001b[1;33m\u001b[0m\u001b[1;33m\u001b[0m\u001b[0m\n\u001b[1;32m---> 49\u001b[1;33m             \u001b[0mdata\u001b[0m \u001b[1;33m=\u001b[0m \u001b[1;33m[\u001b[0m\u001b[0mself\u001b[0m\u001b[1;33m.\u001b[0m\u001b[0mdataset\u001b[0m\u001b[1;33m[\u001b[0m\u001b[0midx\u001b[0m\u001b[1;33m]\u001b[0m \u001b[1;32mfor\u001b[0m \u001b[0midx\u001b[0m \u001b[1;32min\u001b[0m \u001b[0mpossibly_batched_index\u001b[0m\u001b[1;33m]\u001b[0m\u001b[1;33m\u001b[0m\u001b[1;33m\u001b[0m\u001b[0m\n\u001b[0m\u001b[0;32m     50\u001b[0m         \u001b[1;32melse\u001b[0m\u001b[1;33m:\u001b[0m\u001b[1;33m\u001b[0m\u001b[1;33m\u001b[0m\u001b[0m\n\u001b[0;32m     51\u001b[0m             \u001b[0mdata\u001b[0m \u001b[1;33m=\u001b[0m \u001b[0mself\u001b[0m\u001b[1;33m.\u001b[0m\u001b[0mdataset\u001b[0m\u001b[1;33m[\u001b[0m\u001b[0mpossibly_batched_index\u001b[0m\u001b[1;33m]\u001b[0m\u001b[1;33m\u001b[0m\u001b[1;33m\u001b[0m\u001b[0m\n",
      "\u001b[1;32mD:\\Project\\Tony\\nail_seg\\code\\Nail_dataset.py\u001b[0m in \u001b[0;36m__getitem__\u001b[1;34m(self, idx)\u001b[0m\n\u001b[0;32m     29\u001b[0m                 \u001b[1;32mfor\u001b[0m \u001b[0mj\u001b[0m \u001b[1;32min\u001b[0m \u001b[0mrange\u001b[0m\u001b[1;33m(\u001b[0m\u001b[1;36m256\u001b[0m\u001b[1;33m)\u001b[0m\u001b[1;33m:\u001b[0m\u001b[1;33m\u001b[0m\u001b[1;33m\u001b[0m\u001b[0m\n\u001b[0;32m     30\u001b[0m                     \u001b[1;32mif\u001b[0m\u001b[1;33m(\u001b[0m\u001b[0mgray\u001b[0m\u001b[1;33m[\u001b[0m\u001b[0mi\u001b[0m\u001b[1;33m]\u001b[0m\u001b[1;33m[\u001b[0m\u001b[0mj\u001b[0m\u001b[1;33m]\u001b[0m\u001b[1;33m>\u001b[0m\u001b[1;36m0\u001b[0m\u001b[1;33m)\u001b[0m\u001b[1;33m:\u001b[0m\u001b[1;33m\u001b[0m\u001b[1;33m\u001b[0m\u001b[0m\n\u001b[1;32m---> 31\u001b[1;33m                         \u001b[0mgray\u001b[0m\u001b[1;33m[\u001b[0m\u001b[0mi\u001b[0m\u001b[1;33m]\u001b[0m\u001b[1;33m[\u001b[0m\u001b[0mj\u001b[0m\u001b[1;33m]\u001b[0m \u001b[1;33m=\u001b[0m \u001b[0mnp\u001b[0m\u001b[1;33m.\u001b[0m\u001b[0mlog\u001b[0m\u001b[1;33m(\u001b[0m\u001b[0mgray\u001b[0m\u001b[1;33m[\u001b[0m\u001b[0mi\u001b[0m\u001b[1;33m]\u001b[0m\u001b[1;33m[\u001b[0m\u001b[0mj\u001b[0m\u001b[1;33m]\u001b[0m\u001b[1;33m)\u001b[0m\u001b[1;33m\u001b[0m\u001b[1;33m\u001b[0m\u001b[0m\n\u001b[0m\u001b[0;32m     32\u001b[0m \u001b[1;31m#             gray = np.log(gray)\u001b[0m\u001b[1;33m\u001b[0m\u001b[1;33m\u001b[0m\u001b[0m\n\u001b[0;32m     33\u001b[0m             \u001b[0mgray\u001b[0m \u001b[1;33m=\u001b[0m \u001b[0mgray\u001b[0m\u001b[1;33m.\u001b[0m\u001b[0mreshape\u001b[0m\u001b[1;33m(\u001b[0m\u001b[1;36m1\u001b[0m\u001b[1;33m,\u001b[0m\u001b[1;36m256\u001b[0m\u001b[1;33m,\u001b[0m\u001b[1;36m256\u001b[0m\u001b[1;33m)\u001b[0m\u001b[1;33m\u001b[0m\u001b[1;33m\u001b[0m\u001b[0m\n",
      "\u001b[1;31mKeyboardInterrupt\u001b[0m: "
     ]
    }
   ],
   "source": [
    "epochs = 200\n",
    "device = 'cuda' if torch.cuda.is_available() else \"cpu\"\n",
    "# device = 'cpu'\n",
    "print(device)\n",
    "min_loss=10000000000\n",
    "for t in range(epochs):\n",
    "    print(f\"Epoch {t+1}\\n-------------------------------\")\n",
    "    total_loss = train(train_dataloader, model, loss_fn, optimizer)\n",
    "    if(total_loss < min_loss ):\n",
    "        min_loss = total_loss\n",
    "        print(\"#########save_best_model###########\")\n",
    "        torch.save(model.state_dict(), \"best_model.pth\")\n",
    "print(\"Done!\")"
   ]
  },
  {
   "cell_type": "code",
   "execution_count": null,
   "id": "613a1783",
   "metadata": {},
   "outputs": [],
   "source": [
    "ls D:\\Project\\Tony\\anemia\\code\\keras_version"
   ]
  },
  {
   "cell_type": "code",
   "execution_count": 13,
   "id": "8b27efab",
   "metadata": {},
   "outputs": [],
   "source": [
    "torch.save(model.state_dict(), \"D:/Project/Tony/anemia/code/keras_version/best_model_log_gray.pth\")"
   ]
  },
  {
   "cell_type": "code",
   "execution_count": 27,
   "id": "solid-private",
   "metadata": {},
   "outputs": [
    {
     "name": "stdout",
     "output_type": "stream",
     "text": [
      "torch.Size([1, 1, 256, 256])\n"
     ]
    },
    {
     "data": {
      "text/plain": [
       "<matplotlib.image.AxesImage at 0x1dd9b647fa0>"
      ]
     },
     "execution_count": 27,
     "metadata": {},
     "output_type": "execute_result"
    },
    {
     "data": {
      "image/png": "[encoded data removed]",
      "text/plain": [
       "<Figure size 432x288 with 3 Axes>"
      ]
     },
     "metadata": {
      "needs_background": "light"
     },
     "output_type": "display_data"
    }
   ],
   "source": [
    "# model.load_state_dict(torch.load(\"best_model.pth\"))\n",
    "image, mask, origin_image = next(iter(train_dataloader))\n",
    "image = image.float()\n",
    "image = image.to(device)\n",
    "prediction = model(image)\n",
    "prediction = prediction.detach().cpu().numpy()\n",
    "# for i in range(0, prediction.shape[2]):\n",
    "#     for j in range(0, prediction.shape[3]):\n",
    "#         if(prediction[0][0][i][j]<1.3):\n",
    "#             prediction[0][0][i][j] = 0\n",
    "#         else:\n",
    "#             prediction[0][0][i][j] = 1\n",
    "print(image.shape)\n",
    "plt.subplot(1,3,1)\n",
    "plt.imshow(prediction[0][0])\n",
    "plt.subplot(1,3,2)\n",
    "plt.imshow(mask[0])\n",
    "plt.subplot(1,3,3)\n",
    "plt.imshow(origin_image[0].cpu())"
   ]
  },
  {
   "cell_type": "code",
   "execution_count": null,
   "id": "63a00d27",
   "metadata": {},
   "outputs": [],
   "source": [
    "p"
   ]
  },
  {
   "cell_type": "code",
   "execution_count": null,
   "id": "14354189",
   "metadata": {},
   "outputs": [],
   "source": [
    "plt.imshow(prediction[0][0])\n",
    "plt.show()"
   ]
  },
  {
   "cell_type": "code",
   "execution_count": null,
   "id": "914926a9",
   "metadata": {},
   "outputs": [],
   "source": [
    "plt.imshow(mask[0])\n",
    "plt.show()"
   ]
  },
  {
   "cell_type": "code",
   "execution_count": null,
   "id": "1d0fc220",
   "metadata": {},
   "outputs": [],
   "source": []
  },
  {
   "cell_type": "code",
   "execution_count": null,
   "id": "fc56383b",
   "metadata": {},
   "outputs": [],
   "source": []
  }
 ],
 "metadata": {
  "kernelspec": {
   "display_name": "Python 3 (ipykernel)",
   "language": "python",
   "name": "python3"
  },
  "language_info": {
   "codemirror_mode": {
    "name": "ipython",
    "version": 3
   },
   "file_extension": ".py",
   "mimetype": "text/x-python",
   "name": "python",
   "nbconvert_exporter": "python",
   "pygments_lexer": "ipython3",
   "version": "3.9.7"
  }
 },
 "nbformat": 4,
 "nbformat_minor": 5
}
