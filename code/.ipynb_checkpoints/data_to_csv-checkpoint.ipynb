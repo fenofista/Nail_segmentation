{
 "cells": [
  {
   "cell_type": "code",
   "execution_count": 9,
   "id": "limited-beatles",
   "metadata": {},
   "outputs": [],
   "source": [
    "import os\n",
    "import cv2\n",
    "import matplotlib.pyplot as plt\n",
    "import pandas as pd\n",
    "import numpy as np"
   ]
  },
  {
   "cell_type": "code",
   "execution_count": 10,
   "id": "11111285",
   "metadata": {},
   "outputs": [],
   "source": [
    "image_path_arr = os.listdir(\"../data/train/image\")\n",
    "mask_path_arr = os.listdir(\"../data/train/mask\")\n",
    "if \".ipynb_checkpoints\" in image_path_arr:\n",
    "    image_path_arr.remove(\".ipynb_checkpoints\")\n",
    "if \".ipynb_checkpoints\" in mask_path_arr:\n",
    "    mask_path_arr.remove(\".ipynb_checkpoints\")\n",
    "image_path = []\n",
    "mask_path = []\n",
    "for i in range(0, len(image_path_arr)):\n",
    "    image_path.append(\"../data/train/image/\"+image_path_arr[i])\n",
    "    mask_path.append(\"../data/train/mask/\"+mask_path_arr[i])\n",
    "\n",
    "# intialise data of lists.\n",
    "data = {'image_path':image_path,\n",
    "        'mask_path':mask_path}\n",
    " \n",
    "# Create DataFrame\n",
    "df = pd.DataFrame(data)\n",
    " \n",
    "# Print the output.\n",
    "df.to_csv(\"train_data.csv\", index=False)"
   ]
  },
  {
   "cell_type": "code",
   "execution_count": 11,
   "id": "executed-webster",
   "metadata": {},
   "outputs": [],
   "source": [
    "image_path_arr = os.listdir(\"../data/val/image\")\n",
    "mask_path_arr = os.listdir(\"../data/val/mask\")\n",
    "if \".ipynb_checkpoints\" in image_path_arr:\n",
    "    image_path_arr.remove(\".ipynb_checkpoints\")\n",
    "if \".ipynb_checkpoints\" in mask_path_arr:\n",
    "    mask_path_arr.remove(\".ipynb_checkpoints\")\n",
    "image_path = []\n",
    "mask_path = []\n",
    "for i in range(0, len(image_path_arr)):\n",
    "    image_path.append(\"../data/val/image/\"+image_path_arr[i])\n",
    "    mask_path.append(\"../data/val/mask/\"+mask_path_arr[i])\n",
    "\n",
    "# intialise data of lists.\n",
    "data = {'image_path':image_path,\n",
    "        'mask_path':mask_path}\n",
    " \n",
    "# Create DataFrame\n",
    "df = pd.DataFrame(data)\n",
    " \n",
    "# Print the output.\n",
    "df.to_csv(\"val_data.csv\", index=False)"
   ]
  },
  {
   "cell_type": "code",
   "execution_count": 8,
   "id": "0a63be08",
   "metadata": {},
   "outputs": [
    {
     "name": "stdout",
     "output_type": "stream",
     "text": [
      "Thu Jul 28 21:49:21 2022       \n",
      "+-----------------------------------------------------------------------------+\n",
      "| NVIDIA-SMI 457.51       Driver Version: 457.51       CUDA Version: 11.1     |\n",
      "|-------------------------------+----------------------+----------------------+\n",
      "| GPU  Name            TCC/WDDM | Bus-Id        Disp.A | Volatile Uncorr. ECC |\n",
      "| Fan  Temp  Perf  Pwr:Usage/Cap|         Memory-Usage | GPU-Util  Compute M. |\n",
      "|                               |                      |               MIG M. |\n",
      "|===============================+======================+======================|\n",
      "|   0  GeForce RTX 3090   WDDM  | 00000000:01:00.0  On |                  N/A |\n",
      "| 61%   71C    P2   158W / 350W |  15005MiB / 24576MiB |     10%      Default |\n",
      "|                               |                      |                  N/A |\n",
      "+-------------------------------+----------------------+----------------------+\n",
      "                                                                               \n",
      "+-----------------------------------------------------------------------------+\n",
      "| Processes:                                                                  |\n",
      "|  GPU   GI   CI        PID   Type   Process name                  GPU Memory |\n",
      "|        ID   ID                                                   Usage      |\n",
      "|=============================================================================|\n",
      "|    0   N/A  N/A      1260    C+G   Insufficient Permissions        N/A      |\n",
      "|    0   N/A  N/A      1988    C+G   ...2txyewy\\TextInputHost.exe    N/A      |\n",
      "|    0   N/A  N/A      5620    C+G   ...ge\\Application\\msedge.exe    N/A      |\n",
      "|    0   N/A  N/A      6652    C+G   C:\\Windows\\explorer.exe         N/A      |\n",
      "|    0   N/A  N/A      7028    C+G   ...y\\ShellExperienceHost.exe    N/A      |\n",
      "|    0   N/A  N/A      7216    C+G   ...5n1h2txyewy\\SearchApp.exe    N/A      |\n",
      "|    0   N/A  N/A      8988    C+G   ...cw5n1h2txyewy\\LockApp.exe    N/A      |\n",
      "|    0   N/A  N/A      9264    C+G   ...ekyb3d8bbwe\\YourPhone.exe    N/A      |\n",
      "|    0   N/A  N/A     10588      C   ...ILAB\\anaconda3\\python.exe    N/A      |\n",
      "|    0   N/A  N/A     10632    C+G   Insufficient Permissions        N/A      |\n",
      "|    0   N/A  N/A     11240    C+G   ...5n1h2txyewy\\SearchApp.exe    N/A      |\n",
      "|    0   N/A  N/A     11664    C+G   ...bbwe\\Microsoft.Photos.exe    N/A      |\n",
      "|    0   N/A  N/A     12328      C   ...ILAB\\anaconda3\\python.exe    N/A      |\n",
      "+-----------------------------------------------------------------------------+\n"
     ]
    }
   ],
   "source": [
    "!nvidia-smi"
   ]
  },
  {
   "cell_type": "code",
   "execution_count": null,
   "id": "de8890b9",
   "metadata": {},
   "outputs": [],
   "source": []
  }
 ],
 "metadata": {
  "kernelspec": {
   "display_name": "Python 3 (ipykernel)",
   "language": "python",
   "name": "python3"
  },
  "language_info": {
   "codemirror_mode": {
    "name": "ipython",
    "version": 3
   },
   "file_extension": ".py",
   "mimetype": "text/x-python",
   "name": "python",
   "nbconvert_exporter": "python",
   "pygments_lexer": "ipython3",
   "version": "3.9.7"
  }
 },
 "nbformat": 4,
 "nbformat_minor": 5
}
