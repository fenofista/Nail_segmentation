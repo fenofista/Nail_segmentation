{
 "cells": [
  {
   "cell_type": "code",
   "execution_count": 22,
   "id": "3e296d30",
   "metadata": {},
   "outputs": [
    {
     "name": "stdout",
     "output_type": "stream",
     "text": [
      " Volume in drive D is New Volume\n",
      " Volume Serial Number is E8D0-FF7B\n",
      "\n",
      " Directory of D:\\Project\\Tony\\nail_seg\\data\n",
      "\n",
      "07/28/2022  09:45 PM    <DIR>          .\n",
      "07/28/2022  09:45 PM    <DIR>          ..\n",
      "06/20/2022  07:29 PM    <DIR>          .ipynb_checkpoints\n",
      "07/28/2022  10:15 PM    <DIR>          image\n",
      "07/28/2022  10:15 PM    <DIR>          mask\n",
      "07/16/2022  09:59 AM    <DIR>          train\n",
      "07/16/2022  10:00 AM    <DIR>          val\n",
      "07/28/2022  10:14 PM    <DIR>          zipfile\n",
      "               0 File(s)              0 bytes\n",
      "               8 Dir(s)  49,431,154,688 bytes free\n"
     ]
    }
   ],
   "source": [
    "ls \"../data\""
   ]
  },
  {
   "cell_type": "code",
   "execution_count": 23,
   "id": "43d5817f",
   "metadata": {},
   "outputs": [],
   "source": [
    "import os\n",
    "import shutil"
   ]
  },
  {
   "cell_type": "code",
   "execution_count": 24,
   "id": "25a24312",
   "metadata": {},
   "outputs": [
    {
     "name": "stdout",
     "output_type": "stream",
     "text": [
      "217\n"
     ]
    }
   ],
   "source": [
    "dir = os.listdir(\"../data/image\")\n",
    "print(len(dir))"
   ]
  },
  {
   "cell_type": "code",
   "execution_count": 25,
   "id": "3b869b52",
   "metadata": {},
   "outputs": [],
   "source": [
    "dir = os.listdir(\"../data/image\")\n",
    "if(\".ipynb_checkpoints\" in dir):\n",
    "    dir.remove(\".ipynb_checkpoints\")\n",
    "if(\"JPEGImages\" in dir):\n",
    "    dir.remove(\"JPEGImages\")\n",
    "if(\"__MACOSX\" in dir):\n",
    "    dir.remove(\"__MACOSX\")\n",
    "length = int(len(dir)*0.8)\n",
    "train = dir[:length]\n",
    "val = dir[length:]\n",
    "for i in range(len(train)):\n",
    "    shutil.copy(\"../data/image/\"+train[i], \"../data/train/image/\"+train[i])\n",
    "for i in range(len(val)):\n",
    "    shutil.copy(\"../data/image/\"+val[i], \"../data/val/image/\"+val[i])"
   ]
  },
  {
   "cell_type": "code",
   "execution_count": 26,
   "id": "749ef23d",
   "metadata": {},
   "outputs": [],
   "source": [
    "dir = os.listdir(\"../data/mask\")\n",
    "if(\".ipynb_checkpoints\" in dir):\n",
    "    dir.remove(\".ipynb_checkpoints\")\n",
    "if(\"SegmentationClassPNG\" in dir):\n",
    "    dir.remove(\"SegmentationClassPNG\")\n",
    "if(\"__MACOSX\" in dir):\n",
    "    dir.remove(\"__MACOSX\")\n",
    "length = int(len(dir)*0.8)\n",
    "train = dir[:length]\n",
    "val = dir[length:]\n",
    "\n",
    "for i in range(len(train)):\n",
    "    shutil.copy(\"../data/mask/\"+train[i], \"../data/train/mask/\"+train[i])\n",
    "for i in range(len(val)):\n",
    "    shutil.copy(\"../data/mask/\"+val[i], \"../data/val/mask/\"+val[i])"
   ]
  },
  {
   "cell_type": "code",
   "execution_count": null,
   "id": "900613ae",
   "metadata": {},
   "outputs": [],
   "source": []
  }
 ],
 "metadata": {
  "kernelspec": {
   "display_name": "Python 3 (ipykernel)",
   "language": "python",
   "name": "python3"
  },
  "language_info": {
   "codemirror_mode": {
    "name": "ipython",
    "version": 3
   },
   "file_extension": ".py",
   "mimetype": "text/x-python",
   "name": "python",
   "nbconvert_exporter": "python",
   "pygments_lexer": "ipython3",
   "version": "3.9.7"
  }
 },
 "nbformat": 4,
 "nbformat_minor": 5
}
