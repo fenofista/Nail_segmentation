{
 "cells": [
  {
   "cell_type": "code",
   "execution_count": 32,
   "id": "3e296d30",
   "metadata": {},
   "outputs": [
    {
     "name": "stdout",
     "output_type": "stream",
     "text": [
      " Volume in drive D is New Volume\n",
      " Volume Serial Number is E8D0-FF7B\n",
      "\n",
      " Directory of D:\\Project\\Tony\\nail_seg\\data\n",
      "\n",
      "07/28/2022  09:45 PM    <DIR>          .\n",
      "07/28/2022  09:45 PM    <DIR>          ..\n",
      "06/20/2022  07:29 PM    <DIR>          .ipynb_checkpoints\n",
      "07/28/2022  11:01 PM    <DIR>          image\n",
      "07/28/2022  11:01 PM    <DIR>          mask\n",
      "07/16/2022  09:59 AM    <DIR>          train\n",
      "07/16/2022  10:00 AM    <DIR>          val\n",
      "07/28/2022  11:01 PM    <DIR>          zipfile\n",
      "               0 File(s)              0 bytes\n",
      "               8 Dir(s)  33,841,270,784 bytes free\n"
     ]
    }
   ],
   "source": [
    "ls \"../data\""
   ]
  },
  {
   "cell_type": "code",
   "execution_count": 33,
   "id": "43d5817f",
   "metadata": {},
   "outputs": [],
   "source": [
    "import os\n",
    "import shutil"
   ]
  },
  {
   "cell_type": "code",
   "execution_count": 34,
   "id": "25a24312",
   "metadata": {},
   "outputs": [
    {
     "name": "stdout",
     "output_type": "stream",
     "text": [
      "252\n"
     ]
    }
   ],
   "source": [
    "dir = os.listdir(\"../data/image\")\n",
    "print(len(dir))"
   ]
  },
  {
   "cell_type": "code",
   "execution_count": 35,
   "id": "3b869b52",
   "metadata": {},
   "outputs": [],
   "source": [
    "dir = os.listdir(\"../data/image\")\n",
    "if(\".ipynb_checkpoints\" in dir):\n",
    "    dir.remove(\".ipynb_checkpoints\")\n",
    "if(\"JPEGImages\" in dir):\n",
    "    dir.remove(\"JPEGImages\")\n",
    "if(\"__MACOSX\" in dir):\n",
    "    dir.remove(\"__MACOSX\")\n",
    "length = int(len(dir)*0.8)\n",
    "train = dir[:length]\n",
    "val = dir[length:]\n",
    "for i in range(len(train)):\n",
    "    shutil.copy(\"../data/image/\"+train[i], \"../data/train/image/\"+train[i])\n",
    "for i in range(len(val)):\n",
    "    shutil.copy(\"../data/image/\"+val[i], \"../data/val/image/\"+val[i])"
   ]
  },
  {
   "cell_type": "code",
   "execution_count": 36,
   "id": "749ef23d",
   "metadata": {},
   "outputs": [],
   "source": [
    "dir = os.listdir(\"../data/mask\")\n",
    "if(\".ipynb_checkpoints\" in dir):\n",
    "    dir.remove(\".ipynb_checkpoints\")\n",
    "if(\"SegmentationClassPNG\" in dir):\n",
    "    dir.remove(\"SegmentationClassPNG\")\n",
    "if(\"__MACOSX\" in dir):\n",
    "    dir.remove(\"__MACOSX\")\n",
    "length = int(len(dir)*0.8)\n",
    "train = dir[:length]\n",
    "val = dir[length:]\n",
    "\n",
    "for i in range(len(train)):\n",
    "    shutil.copy(\"../data/mask/\"+train[i], \"../data/train/mask/\"+train[i])\n",
    "for i in range(len(val)):\n",
    "    shutil.copy(\"../data/mask/\"+val[i], \"../data/val/mask/\"+val[i])"
   ]
  },
  {
   "cell_type": "code",
   "execution_count": 3,
   "id": "900613ae",
   "metadata": {},
   "outputs": [
    {
     "name": "stdout",
     "output_type": "stream",
     "text": [
      "Fri Aug 05 20:19:48 2022       \n",
      "+-----------------------------------------------------------------------------+\n",
      "| NVIDIA-SMI 457.51       Driver Version: 457.51       CUDA Version: 11.1     |\n",
      "|-------------------------------+----------------------+----------------------+\n",
      "| GPU  Name            TCC/WDDM | Bus-Id        Disp.A | Volatile Uncorr. ECC |\n",
      "| Fan  Temp  Perf  Pwr:Usage/Cap|         Memory-Usage | GPU-Util  Compute M. |\n",
      "|                               |                      |               MIG M. |\n",
      "|===============================+======================+======================|\n",
      "|   0  GeForce RTX 3090   WDDM  | 00000000:01:00.0  On |                  N/A |\n",
      "| 65%   74C    P2   232W / 350W |  24523MiB / 24576MiB |     91%      Default |\n",
      "|                               |                      |                  N/A |\n",
      "+-------------------------------+----------------------+----------------------+\n",
      "                                                                               \n",
      "+-----------------------------------------------------------------------------+\n",
      "| Processes:                                                                  |\n",
      "|  GPU   GI   CI        PID   Type   Process name                  GPU Memory |\n",
      "|        ID   ID                                                   Usage      |\n",
      "|=============================================================================|\n",
      "|    0   N/A  N/A      1260    C+G   Insufficient Permissions        N/A      |\n",
      "|    0   N/A  N/A      1988    C+G   ...2txyewy\\TextInputHost.exe    N/A      |\n",
      "|    0   N/A  N/A      4640    C+G   ...bbwe\\Microsoft.Photos.exe    N/A      |\n",
      "|    0   N/A  N/A      4692    C+G   Insufficient Permissions        N/A      |\n",
      "|    0   N/A  N/A      5620    C+G   ...ge\\Application\\msedge.exe    N/A      |\n",
      "|    0   N/A  N/A      6080    C+G   ...e\\PhoneExperienceHost.exe    N/A      |\n",
      "|    0   N/A  N/A      6328    C+G   ...5n1h2txyewy\\SearchApp.exe    N/A      |\n",
      "|    0   N/A  N/A      6652    C+G   C:\\Windows\\explorer.exe         N/A      |\n",
      "|    0   N/A  N/A      7028    C+G   ...y\\ShellExperienceHost.exe    N/A      |\n",
      "|    0   N/A  N/A      7216    C+G   ...5n1h2txyewy\\SearchApp.exe    N/A      |\n",
      "|    0   N/A  N/A      8468      C   ...ILAB\\anaconda3\\python.exe    N/A      |\n",
      "|    0   N/A  N/A      8988    C+G   ...cw5n1h2txyewy\\LockApp.exe    N/A      |\n",
      "|    0   N/A  N/A      9376      C   ...ILAB\\anaconda3\\python.exe    N/A      |\n",
      "|    0   N/A  N/A      9932      C   ...ILAB\\anaconda3\\python.exe    N/A      |\n",
      "|    0   N/A  N/A     13460      C   ...ILAB\\anaconda3\\python.exe    N/A      |\n",
      "+-----------------------------------------------------------------------------+\n"
     ]
    }
   ],
   "source": [
    "!nvidia-smi"
   ]
  },
  {
   "cell_type": "code",
   "execution_count": null,
   "id": "17e46c12",
   "metadata": {},
   "outputs": [],
   "source": []
  }
 ],
 "metadata": {
  "kernelspec": {
   "display_name": "Python 3 (ipykernel)",
   "language": "python",
   "name": "python3"
  },
  "language_info": {
   "codemirror_mode": {
    "name": "ipython",
    "version": 3
   },
   "file_extension": ".py",
   "mimetype": "text/x-python",
   "name": "python",
   "nbconvert_exporter": "python",
   "pygments_lexer": "ipython3",
   "version": "3.9.7"
  }
 },
 "nbformat": 4,
 "nbformat_minor": 5
}
