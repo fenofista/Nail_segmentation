{
 "cells": [
  {
   "cell_type": "code",
   "execution_count": 1,
   "id": "25cc5645",
   "metadata": {},
   "outputs": [],
   "source": [
    "import torch\n",
    "import torch.nn as nn\n",
    "from Nail_dataset import get_dataset\n",
    "from torch.utils.data import DataLoader\n",
    "from Model import get_model\n",
    "import matplotlib.pyplot as plt\n",
    "import cv2\n",
    "import torch.nn.functional as F\n",
    "from torch.autograd import Variable\n",
    "import numpy as np\n",
    "from torch.nn.functional import binary_cross_entropy\n",
    "import torch\n",
    "from torch.utils.tensorboard import SummaryWriter\n",
    "\n"
   ]
  },
  {
   "cell_type": "code",
   "execution_count": 2,
   "id": "fdc1df2f",
   "metadata": {},
   "outputs": [],
   "source": [
    "import os    \n",
    "os.environ['KMP_DUPLICATE_LIB_OK']='True'"
   ]
  },
  {
   "cell_type": "code",
   "execution_count": 3,
   "id": "e3953451",
   "metadata": {},
   "outputs": [],
   "source": [
    "class FocalLoss(nn.Module):\n",
    "    \"\"\"\n",
    "    Focal Loss for Dense Object Detection [https://arxiv.org/abs/1708.02002]\n",
    "    Digest the paper as below:\n",
    "        α, balances the importance of positive/negative examples\n",
    "        γ, focusing parameter that controls the strength of the modulating term\n",
    "            CE(pt) = −log(pt) ==> pt = exp(-CE)\n",
    "            FL(pt) = −α((1 − pt)^γ) * log(pt)\n",
    "        In general α should be decreased slightly as γ is increased (for γ = 2, α = 0.25 works best).\n",
    "    \"\"\"\n",
    "    def __init__(self, focusing_param=2, balance_param=0.25):\n",
    "        super().__init__()\n",
    "        self.gamma = focusing_param\n",
    "        self.alpha = balance_param\n",
    "\n",
    "    def forward(self, inputs, targets, weights=None):\n",
    "        logpt = -binary_cross_entropy(inputs, targets, weights)\n",
    "        pt = torch.exp(logpt)\n",
    "        # compute the loss\n",
    "        focal_loss = -((1-pt)**self.gamma) * logpt\n",
    "        balanced_focal_loss = self.alpha * focal_loss\n",
    "        return balanced_focal_loss\n",
    "\n"
   ]
  },
  {
   "cell_type": "code",
   "execution_count": 4,
   "id": "48279426",
   "metadata": {},
   "outputs": [],
   "source": [
    "class DiceLoss(nn.Module):\n",
    "    def __init__(self, weight=None, size_average=True):\n",
    "        super(DiceLoss, self).__init__()\n",
    "\n",
    "    def forward(self, inputs, targets, smooth=0.00001):\n",
    "        \n",
    "        #comment out if your model contains a sigmoid or equivalent activation layer\n",
    "#         inputs = F.sigmoid(inputs)       \n",
    "        \n",
    "        #flatten label and prediction tensors\n",
    "        inputs = inputs.view(-1)\n",
    "        targets = targets.view(-1)\n",
    "        \n",
    "        intersection = (inputs * targets).sum()                            \n",
    "        dice = (2.*intersection + smooth)/(inputs.sum() + targets.sum() + smooth)  \n",
    "        \n",
    "        return 1-dice"
   ]
  },
  {
   "cell_type": "code",
   "execution_count": 5,
   "id": "59d85252",
   "metadata": {},
   "outputs": [],
   "source": [
    "class IoULoss(nn.Module):\n",
    "    def __init__(self, weight=None, size_average=True):\n",
    "        super().__init__()\n",
    "\n",
    "    def forward(self, inputs, targets):\n",
    "        smooth = 0.001\n",
    "        num = targets.size(0) # number of batches\n",
    "#         print(num)\n",
    "        m1 = inputs.view(num, -1)\n",
    "        m2 = targets.view(num, -1)\n",
    "        intersection = (m1 * m2)\n",
    "#         print(intersection)\n",
    "        score = (intersection.sum() + smooth) / (m1.sum() + m2.sum() - intersection.sum() + smooth)\n",
    "        iou = score.sum() / num\n",
    "        # three kinds of loss formulas: (1) 1 - iou (2) -iou (3) -torch.log(iou)\n",
    "        return 1. - iou\n",
    "    "
   ]
  },
  {
   "cell_type": "code",
   "execution_count": 6,
   "id": "447ae252",
   "metadata": {},
   "outputs": [],
   "source": [
    "class IoUScore(nn.Module):\n",
    "    def __init__(self, weight=None, size_average=True):\n",
    "        super().__init__()\n",
    "\n",
    "    def forward(self, inputs, targets):\n",
    "        #(batch_size, 256, 256)\n",
    "        smooth = 0.00001\n",
    "        num = targets.size(0) # number of batches\n",
    "#         print(\"num\", num)\n",
    "        m1 = inputs.view(num, -1)\n",
    "        m2 = targets.view(num, -1)\n",
    "#         print(m1.shape)\n",
    "        intersection = (m1 * m2)\n",
    "#         print(\"intersector\", intersection)\n",
    "#         print(intersection)\n",
    "#         print(\"m1\", m1)\n",
    "#         print(\"m2\", m2)\n",
    "#         print(\"intersection.sum(1)\", intersection.sum(1))\n",
    "#         print(\"m1.sum(1)\", m1.sum(1))\n",
    "#         print(\"m2.sum(1)\", m2.sum(1))\n",
    "        score = (intersection.sum(1) + smooth) / (m1.sum(1) + m2.sum(1) - intersection.sum(1) + smooth)\n",
    "        iou = score.sum() / num\n",
    "        # three kinds of loss formulas: (1) 1 - iou (2) -iou (3) -torch.log(iou)\n",
    "        return iou"
   ]
  },
  {
   "cell_type": "code",
   "execution_count": 7,
   "id": "fb78addb",
   "metadata": {},
   "outputs": [],
   "source": [
    "\n",
    "dataset = get_dataset(\"val\", augment = True)\n",
    "\n",
    "dataloader = DataLoader(dataset, batch_size=1, shuffle=True)\n",
    "model = get_model()\n",
    "\n",
    "# model.load_state_dict(torch.load(\"D:/Project/Tony/anemia/code/keras_version/models/model_40.pth\"))\n",
    "model.load_state_dict(torch.load(\"D:/Project/Tony/anemia/code/keras_version/models/best_model.pth\"))\n",
    "\n",
    "loss_fn = DiceLoss()\n",
    "criterion = IoUScore()\n"
   ]
  },
  {
   "cell_type": "code",
   "execution_count": 8,
   "id": "aaded29d",
   "metadata": {},
   "outputs": [
    {
     "name": "stdout",
     "output_type": "stream",
     "text": [
      "50\n"
     ]
    }
   ],
   "source": [
    "print(len(dataloader))"
   ]
  },
  {
   "cell_type": "code",
   "execution_count": 37,
   "id": "5e19dc04",
   "metadata": {},
   "outputs": [
    {
     "name": "stdout",
     "output_type": "stream",
     "text": [
      "cpu\n",
      "0\n",
      "tensor(0.0062)\n"
     ]
    }
   ],
   "source": [
    "model.eval()\n",
    "device = \"cpu\"\n",
    "print(device)\n",
    "model = model.to(device)\n",
    "size = len(dataloader)\n",
    "total_loss=0\n",
    "total_score = 0\n",
    "with torch.no_grad():\n",
    "    for batch, (X, y, image) in enumerate(dataloader):\n",
    "        X = X.to(device)\n",
    "        y = y.to(device)\n",
    "        X = X.float()\n",
    "        y = y.float()\n",
    "        pred = model(X)\n",
    "        pred = F.sigmoid(pred)\n",
    "        pred = pred.reshape(1,256,256)\n",
    "        y = y.reshape(1,256,256)\n",
    "        loss = loss_fn((pred), y)\n",
    "        score = criterion((pred), y)\n",
    "        total_loss+=loss\n",
    "        total_score+=score\n",
    "        if(batch%10==0):\n",
    "            print(batch)\n",
    "        print\n",
    "        break\n",
    "    print(total_loss/len(dataloader))\n",
    "\n",
    "\n"
   ]
  },
  {
   "cell_type": "code",
   "execution_count": 38,
   "id": "11ac3ee7",
   "metadata": {},
   "outputs": [
    {
     "name": "stdout",
     "output_type": "stream",
     "text": [
      "tensor(0.0062)\n",
      "tensor(0.0105)\n"
     ]
    }
   ],
   "source": [
    "print(total_loss/len(dataloader))\n",
    "print(total_score/len(dataloader))"
   ]
  },
  {
   "cell_type": "code",
   "execution_count": 39,
   "id": "65837f16",
   "metadata": {
    "scrolled": true
   },
   "outputs": [
    {
     "data": {
      "text/plain": [
       "()"
      ]
     },
     "execution_count": 39,
     "metadata": {},
     "output_type": "execute_result"
    }
   ],
   "source": [
    "/"
   ]
  },
  {
   "cell_type": "code",
   "execution_count": 40,
   "id": "dfb8e47d",
   "metadata": {},
   "outputs": [
    {
     "name": "stdout",
     "output_type": "stream",
     "text": [
      "tensor(0.3100) tensor(0.5267)\n"
     ]
    },
    {
     "data": {
      "text/plain": [
       "<matplotlib.image.AxesImage at 0x1e83850f220>"
      ]
     },
     "execution_count": 40,
     "metadata": {},
     "output_type": "execute_result"
    },
    {
     "data": {
      "image/png": "[encoded data removed]",
      "text/plain": [
       "<Figure size 432x288 with 3 Axes>"
      ]
     },
     "metadata": {
      "needs_background": "light"
     },
     "output_type": "display_data"
    }
   ],
   "source": [
    "print(loss, score)\n",
    "plt.subplot(1,3,1)\n",
    "plt.imshow(X[0][0])\n",
    "plt.subplot(1,3,2)\n",
    "plt.imshow(pred.cpu().detach().numpy()[0])\n",
    "plt.subplot(1,3,3)\n",
    "plt.imshow(y.cpu().detach().numpy()[0])"
   ]
  },
  {
   "cell_type": "code",
   "execution_count": 345,
   "id": "bee28e15",
   "metadata": {},
   "outputs": [
    {
     "name": "stdout",
     "output_type": "stream",
     "text": [
      "tensor(1.0000)\n"
     ]
    }
   ],
   "source": [
    "input = torch.tensor([[0,0],[0,0]])\n",
    "mask = torch.tensor([[1,1],[0,0]])\n",
    "print(loss_fn(input,mask))"
   ]
  },
  {
   "cell_type": "code",
   "execution_count": 44,
   "id": "82789271",
   "metadata": {},
   "outputs": [
    {
     "name": "stdout",
     "output_type": "stream",
     "text": [
      "Sun Aug 07 22:17:16 2022       \n",
      "+-----------------------------------------------------------------------------+\n",
      "| NVIDIA-SMI 457.51       Driver Version: 457.51       CUDA Version: 11.1     |\n",
      "|-------------------------------+----------------------+----------------------+\n",
      "| GPU  Name            TCC/WDDM | Bus-Id        Disp.A | Volatile Uncorr. ECC |\n",
      "| Fan  Temp  Perf  Pwr:Usage/Cap|         Memory-Usage | GPU-Util  Compute M. |\n",
      "|                               |                      |               MIG M. |\n",
      "|===============================+======================+======================|\n",
      "|   0  GeForce RTX 3090   WDDM  | 00000000:01:00.0  On |                  N/A |\n",
      "| 58%   70C    P2   156W / 350W |   6662MiB / 24576MiB |     19%      Default |\n",
      "|                               |                      |                  N/A |\n",
      "+-------------------------------+----------------------+----------------------+\n",
      "                                                                               \n",
      "+-----------------------------------------------------------------------------+\n",
      "| Processes:                                                                  |\n",
      "|  GPU   GI   CI        PID   Type   Process name                  GPU Memory |\n",
      "|        ID   ID                                                   Usage      |\n",
      "|=============================================================================|\n",
      "|    0   N/A  N/A      1068    C+G   ...y\\ShellExperienceHost.exe    N/A      |\n",
      "|    0   N/A  N/A      1332    C+G   Insufficient Permissions        N/A      |\n",
      "|    0   N/A  N/A      1456    C+G   C:\\Windows\\explorer.exe         N/A      |\n",
      "|    0   N/A  N/A      4772    C+G   ...5n1h2txyewy\\SearchApp.exe    N/A      |\n",
      "|    0   N/A  N/A      5700      C   ...ILAB\\anaconda3\\python.exe    N/A      |\n",
      "|    0   N/A  N/A      6380      C   ...ILAB\\anaconda3\\python.exe    N/A      |\n",
      "|    0   N/A  N/A      6616      C   ...ILAB\\anaconda3\\python.exe    N/A      |\n",
      "|    0   N/A  N/A      8488      C   ...ILAB\\anaconda3\\python.exe    N/A      |\n",
      "|    0   N/A  N/A      8604    C+G   ...2txyewy\\TextInputHost.exe    N/A      |\n",
      "|    0   N/A  N/A      8956    C+G   ...e\\PhoneExperienceHost.exe    N/A      |\n",
      "|    0   N/A  N/A      9444      C   ...ILAB\\anaconda3\\python.exe    N/A      |\n",
      "|    0   N/A  N/A     10480    C+G   ...ge\\Application\\msedge.exe    N/A      |\n",
      "|    0   N/A  N/A     11332    C+G   Insufficient Permissions        N/A      |\n",
      "|    0   N/A  N/A     13204    C+G   ...me\\Application\\chrome.exe    N/A      |\n",
      "+-----------------------------------------------------------------------------+\n"
     ]
    }
   ],
   "source": [
    "!nvidia-smi"
   ]
  },
  {
   "cell_type": "code",
   "execution_count": null,
   "id": "73aabb0a",
   "metadata": {},
   "outputs": [],
   "source": []
  }
 ],
 "metadata": {
  "kernelspec": {
   "display_name": "Python 3 (ipykernel)",
   "language": "python",
   "name": "python3"
  },
  "language_info": {
   "codemirror_mode": {
    "name": "ipython",
    "version": 3
   },
   "file_extension": ".py",
   "mimetype": "text/x-python",
   "name": "python",
   "nbconvert_exporter": "python",
   "pygments_lexer": "ipython3",
   "version": "3.9.7"
  }
 },
 "nbformat": 4,
 "nbformat_minor": 5
}
